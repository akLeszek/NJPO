{
 "cells": [
  {
   "cell_type": "markdown",
   "source": [
    "# Funkcje i elementy języka funkcyjnego\n",
    "\n",
    "W laboratorium zostaną omówione najważniejsze elementy związane z funkcjami i elementami pochodnymi jak funktory i generatory. Jako materiał uzupełniający warto wrócić do laboratorium 1, gdzie zostały przedstawione dwie dodatkowe metody przekazywania parametrów, `*` i `**`.\n",
    "\n",
    "## 1. Przekazywanie parametrów\n",
    "\n",
    "Funkcja to zestaw instrukcji z wydzielonymi parametrami wejściowymi o zasięgu lokalnym, identyfikatorem (nazwą funkcji) oraz zwracanym wyniku, który może przyjmować wartość `None`. Wyrażenia `lambda` łamią tą zasadę, gdyż nie posiadają nazwy, a jedynie są przypisywane do zmiennej, która przechowuje miejsce w pamięci, gdzie funkcja jest przechowywana. Funkcje mogą być globalne (w ramach swojego modułu), importowane z poziomu innych plików języka Python bezpośrednio po nazwie, agregowane w klasach (jako podstawowy składnik klasy) lub zagnieżdżone (_nested_). Dwa typy zostaną omówione w kolejnych sekcjach.\n",
    "\n",
    "Poniżej znajdują się trzy proste funkcje, (i) nie zwracająca żadnego wyniku, (ii) zwracająca wynik w postaci zmiennej typu `int` oraz (iii) zwracająca `tuple`."
   ],
   "metadata": {
    "collapsed": true,
    "pycharm": {
     "name": "#%% md\n"
    }
   }
  },
  {
   "cell_type": "code",
   "execution_count": null,
   "source": [
    "def func_1():\r\n",
    "    pass # lub return\r\n",
    "\r\n",
    "def func_2(a: int, b: int):\r\n",
    "    return a + b\r\n",
    "\r\n",
    "def func_3(a: int, b: int):\r\n",
    "    return a+b, a*b # skrócony zapis (a+b, a*b)"
   ],
   "outputs": [],
   "metadata": {
    "collapsed": false,
    "pycharm": {
     "name": "#%%\n"
    }
   }
  },
  {
   "cell_type": "markdown",
   "source": [
    "Podstawowe anotacje zostały już omówione w laboratorium 1. Ich stosowanie jest zalecane z dwóch powodów: w ten sposób kod sam się dokumentuje (wiadomo jakiego typu mają być przekazywane parametry) oraz dla bezpieczeństwa (istnieje wiele programów sprawdzających poprawność kodu np. `mypy`). Fizycznie anotacje są jedynie wpisami w słowniku `__annotatations__` i z punktu widzenia kompilacji i wykonywania kodu bez znaczenia. W kolejnej sekcji zostanie przedstawiony przykład jak anotacje są przypisywane do funkcji oraz jak można wykorzystać tę informację w dekoratorach funkcji.\n",
    "\n",
    "Oprócz prostych anotacji, w języku Python można deklarować również typu bardziej złożone np. słowniki czy listy, których elementy również mogą być typami złożonymi np. tuplami. Poniżej przykład paru typów bardziej złożonych."
   ],
   "metadata": {
    "collapsed": false,
    "pycharm": {
     "name": "#%% md\n"
    }
   }
  },
  {
   "cell_type": "code",
   "execution_count": null,
   "source": [
    "from typing import List, Dict, Tuple, Any\r\n",
    "\r\n",
    "def func1(par1: Dict[str, List[Tuple[str, Any]]]):\r\n",
    "    pass\r\n"
   ],
   "outputs": [],
   "metadata": {
    "collapsed": false,
    "pycharm": {
     "name": "#%%\n"
    }
   }
  },
  {
   "cell_type": "markdown",
   "source": [
    "W powyższym przykładzie charakterystycznymi elementami są nawiasy kwadratowe, w których zagnieżdżonych typów używa się jako parametrów. Zmienna `par1` powinna być typu słownikowego, którego klucz jest łańcuchem znaków, a wartością jest lista tupli, której pierwszym elementem jest łańcuch znaków, a drugim dowolny, nieznany typ.\n",
    "\n",
    "W tym miejscu warto również wspomnieć o dwóch anotacjach: `union` i `optional`. Jak zostało wspomniane w laboratorium 1, w języku Python nie ma silnego typowania i w związku z tym nie ma przeciążenia funkcji (ta sama nazwa, a różne parametry). Często spotykaną praktyką jest możliwość przekazania wielu typów pod jedną zmienną."
   ],
   "metadata": {
    "collapsed": false,
    "pycharm": {
     "name": "#%% md\n"
    }
   }
  },
  {
   "cell_type": "code",
   "execution_count": null,
   "source": [
    "from typing import Union, Optional, Sequence, List\r\n",
    "\r\n",
    "def func_opt(par1: Union[Sequence[str], str], par2: Optional[List[str]]=None):\r\n",
    "    if isinstance(par1, list):\r\n",
    "        print(f'list: {locals()}')\r\n",
    "    elif isinstance(par1, str):\r\n",
    "        print(f'str: {locals()}')\r\n",
    "    else:\r\n",
    "        print(f'other: {locals()}')\r\n",
    "\r\n",
    "func_opt(['test', 'test2'])\r\n",
    "func_opt('test')"
   ],
   "outputs": [],
   "metadata": {
    "collapsed": false,
    "pycharm": {
     "name": "#%%\n"
    }
   }
  },
  {
   "cell_type": "markdown",
   "source": [
    "Funkcja `func_opt` przyjmuje dwa parametry, wymagany `par1` oraz opcjonalny `par2`. Pierwszy z nich może przyjmować postać\n",
    "dowolnego typu iteracyjnego np. lista, tupla, zbiór, oznaczonego w anotacji jako `sequence`. Druga możliwość to przekazanie do zmiennej `par1` łańcucha znaków. Użycie funkcji wbudowanej `locals` wyświetla wszystkie zmienne lokalne zadeklarowane w funkcji.\n",
    "\n",
    "## 2. Dekoratory funkcji\n",
    "\n",
    "Dekoratorem funkcji nazywamy funkcję przypisaną do deklaracji innej funkcji bazowej. W momencie wywołania funkcji bazowej w kodzie programu, która zawiera dekorator, sterowanie wywoła dekorator, którego zadaniem jest wykonanie dowolnych operacji i manualne wywołanie funkcji. Daje to ogromną możliwość wpływu na działanie samej 'udekorowanej' funkcji. Można dodawać parametry/modyfikować parametry czy przechwytywać wyjątki. Dość istotna jest tutaj niezależność obu funkcji (_losing coupling_). W tym konkretnym przykładzie chodzi przede wszystkim o to, żeby dekorator nie był dedykowany dla jednej konkretnej funkcji. Poniżej znajduje się przykład użycia dekoratora, który przechwytuje wyjątek. Ma to uzasadnienie jedynie w przypadku, gdy dekorator jest w stanie zwrócić poprawną wartość."
   ],
   "metadata": {
    "collapsed": false,
    "pycharm": {
     "name": "#%% md\n"
    }
   }
  },
  {
   "cell_type": "code",
   "execution_count": null,
   "source": [
    "import functools\r\n",
    "\r\n",
    "def call_safe(func):\r\n",
    "    def wrapper(*args, **kwargs):\r\n",
    "        print(f'calling {func.__name__}')\r\n",
    "        try:\r\n",
    "            return func(*args, **kwargs)\r\n",
    "        except Exception as e:\r\n",
    "            print(f'error found: {e}')\r\n",
    "\r\n",
    "        return None\r\n",
    "\r\n",
    "    return wrapper\r\n",
    "\r\n",
    "@call_safe\r\n",
    "def base_func(par1: str):\r\n",
    "    print(locals())\r\n",
    "    raise Exception('Exception test')\r\n",
    "\r\n",
    "base_func('test')"
   ],
   "outputs": [],
   "metadata": {
    "collapsed": false,
    "pycharm": {
     "name": "#%%\n"
    }
   }
  },
  {
   "cell_type": "markdown",
   "source": [
    "Każda funkcja może posiadać jeden lub więcej dekoratorów. W powyższym przykładzie `*arg` odpowiada przekazywanym parametrom pozycyjnym (przykładem jest tutaj `par1`), a `**kwargs` ma wartość inną, niż `None` jedynie, gdy funkcja przyjmuje parametr typu `**kwargs` (słownik z listą parametrów). Następny przykład ilustruje jak modyfikować parametry przekazywane do funkcji."
   ],
   "metadata": {
    "collapsed": false,
    "pycharm": {
     "name": "#%% md\n"
    }
   }
  },
  {
   "cell_type": "code",
   "execution_count": null,
   "source": [
    "import functools\r\n",
    "\r\n",
    "def call_safe(func):\r\n",
    "    def wrapper(*args, **kwargs):\r\n",
    "        print(f'calling {func.__name__}')\r\n",
    "        try:\r\n",
    "            args = (*args, 'par2') # dodanie parametru do listy\r\n",
    "            return func(*args, **kwargs)\r\n",
    "        except Exception as e:\r\n",
    "            print(f'error found: {e}')\r\n",
    "\r\n",
    "        return None\r\n",
    "\r\n",
    "    return wrapper\r\n",
    "\r\n",
    "@call_safe\r\n",
    "def base_func(par1: str, par2: str, **kwargs):\r\n",
    "    print(par1)\r\n",
    "    print(par2)\r\n",
    "    print(kwargs)\r\n",
    "    raise Exception('Exception test')\r\n",
    "\r\n",
    "print('test without par2, kwargs')\r\n",
    "base_func('test')\r\n",
    "\r\n",
    "print('test without par2 with kwargs')\r\n",
    "base_func('test', **{'add_par': 'add_par_val'})"
   ],
   "outputs": [],
   "metadata": {
    "collapsed": false,
    "pycharm": {
     "name": "#%%\n"
    }
   }
  },
  {
   "cell_type": "markdown",
   "source": [
    "Kolejny bardziej zaawansowany przykład prezentuje dekorator sprawdzający typy w momencie przekazywania parametrów do funkcji bazowej. Moduł standardowy `inspect` pozwala pobierać typy przekazywanych parametrów. Przykład pochodzi z książki: \"Mark Summerfield, Advanced Python 3 Programming Techniques, Addison-Wesley Professional, 2009\"."
   ],
   "metadata": {
    "collapsed": false,
    "pycharm": {
     "name": "#%% md\n"
    }
   }
  },
  {
   "cell_type": "code",
   "execution_count": null,
   "source": [
    "import inspect\r\n",
    "import functools\r\n",
    "from typing import List\r\n",
    "\r\n",
    "def strictly_typed(function):\r\n",
    "    annotations = function.__annotations__\r\n",
    "    arg_spec = inspect.getfullargspec(function)\r\n",
    "\r\n",
    "    assert \"return\" in annotations, \"missing type for return value\"\r\n",
    "    for arg in arg_spec.args + arg_spec.kwonlyargs:\r\n",
    "        assert arg in annotations, (\"missing type for parameter '\" +\r\n",
    "                                    arg + \"'\")\r\n",
    "    @functools.wraps(function)\r\n",
    "    def wrapper(*args, **kwargs):\r\n",
    "        for name, arg in (list(zip(arg_spec.args, args)) +\r\n",
    "                          list(kwargs.items())):\r\n",
    "            assert isinstance(arg, annotations[name]), (\r\n",
    "                    \"expected argument '{0}' of {1} got {2}\".format(\r\n",
    "                    name, annotations[name], type(arg)))\r\n",
    "        result = function(*args, **kwargs)\r\n",
    "        assert isinstance(result, annotations[\"return\"]), (\r\n",
    "                    \"expected return of {0} got {1}\".format(\r\n",
    "                    annotations[\"return\"], type(result)))\r\n",
    "        return result\r\n",
    "    return wrapper\r\n",
    "\r\n",
    "@strictly_typed\r\n",
    "def test_funct(par1: str, count: int) -> str:\r\n",
    "    return par1 * count\r\n",
    "\r\n",
    "result = test_funct('str', 5)\r\n",
    "print(result)\r\n",
    "\r\n",
    "test_funct('str', 1.0)\r\n"
   ],
   "outputs": [],
   "metadata": {
    "collapsed": false,
    "pycharm": {
     "name": "#%%\n"
    }
   }
  },
  {
   "cell_type": "markdown",
   "source": [
    "## 3. Funkcje lokalne (zagnieżdżone)\n",
    "\n",
    "Funkcje grupują powtarzające się fragmenty kodu w jednym miejscu. Ta sama zasada może dotyczyć długich funkcji, które mogą posiadać funkcje lokalne, dostępne jedynie z funkcji głównej. Technika ta ma uzasadnienie, gdy realizowany blok kodu zagnieżdżonej funkcji jest bardzo powiązany z funkcją główną i wydzielenie tej funkcji zupełnie osobno nie ma uzasadnienia (ze względu na swoją specyfikę, funkcja będzie zawsze wywoływana przez dokładnie jedną funkcję). Poniższy kod przedstawia sposób definiowania takich funkcji lokalnych."
   ],
   "metadata": {
    "collapsed": false,
    "pycharm": {
     "name": "#%% md\n"
    }
   }
  },
  {
   "cell_type": "code",
   "execution_count": null,
   "source": [
    "def func_main(par1: str):\r\n",
    "    def op1():\r\n",
    "        print('op1 called')\r\n",
    "        pass\r\n",
    "\r\n",
    "    print(par1)\r\n",
    "\r\n",
    "    op1()\r\n",
    "\r\n",
    "func_main('par1')"
   ],
   "outputs": [],
   "metadata": {
    "collapsed": false,
    "pycharm": {
     "name": "#%%\n"
    }
   }
  },
  {
   "cell_type": "markdown",
   "source": [
    "Budowanie funkcji zagnieżdżonych ma tę zaletę, że każda zmienna lokalna funkcji głównej jest dostępna w funkcji zagnieżdżonej. W przypadku modyfikacji tej zmiennej, należy dodać słowo kluczowe `nonlocal`, które informuje kompilator, że zmienna nie jest nową zmienną funkcji zagnieżdżonej, a zmienną funkcji głównej."
   ],
   "metadata": {
    "collapsed": false,
    "pycharm": {
     "name": "#%% md\n"
    }
   }
  },
  {
   "cell_type": "code",
   "execution_count": null,
   "source": [
    "def func_main():\r\n",
    "    local_1, local_2 = 'local 1', 'local 2'\r\n",
    "\r\n",
    "    def op1():\r\n",
    "        nonlocal local_1\r\n",
    "        print(f'op_1: local_1')\r\n",
    "        print(f'op_1: local_2')\r\n",
    "\r\n",
    "        local_1 = 'local_1_mod'\r\n",
    "        local_2 = 'local_2_mod'\r\n",
    "\r\n",
    "    op1()\r\n",
    "\r\n",
    "    print(f'func_main: {local_1}')\r\n",
    "    print(f'func_main: {local_2}')\r\n",
    "\r\n",
    "func_main()"
   ],
   "outputs": [],
   "metadata": {
    "collapsed": false,
    "pycharm": {
     "name": "#%%\n"
    }
   }
  },
  {
   "cell_type": "markdown",
   "source": [
    "Zmienna `local2` w funkcji zagnieżdżonej `op1` jest zmienną lokalną tej funkcji i jej wartość nie jest przekazywana dalej.\n",
    "\n",
    "Innym sposobem wykorzystania funkcji zagnieżdżonych jest optymalizacja wywołań rekurencyjnych. Przykładem może być tutaj generowanie ciągu Fibinacciego."
   ],
   "metadata": {
    "collapsed": false,
    "pycharm": {
     "name": "#%% md\n"
    }
   }
  },
  {
   "cell_type": "code",
   "execution_count": null,
   "source": [
    "def fib():\r\n",
    "    a, b = 0, 1\r\n",
    "    def inner_fib():\r\n",
    "        nonlocal a,b\r\n",
    "        a, b = b, a + b\r\n",
    "\r\n",
    "        return b\r\n",
    "\r\n",
    "    return inner_fib\r\n",
    "\r\n",
    "f = fib()\r\n",
    "for _ in range(1, 20):\r\n",
    "    print(f())"
   ],
   "outputs": [],
   "metadata": {
    "collapsed": false,
    "pycharm": {
     "name": "#%%\n"
    }
   }
  },
  {
   "cell_type": "markdown",
   "source": [
    "Zmienna `f` nie tylko przechowuje adres funkcji `inner_fib`, ale również bieżący kontekst funkcji `f` (w tym przypadku zmienne `a`, `b`). Powyższy przykład łatwo przełożyć na większość funkcji rekurencyjnych, bez konieczności przejmowania się tzw. _long tail_ czyli wielokrotnym odkładaniu się na stos kolejnych kontekstów funkcji rekurencyjnej, co przekłada się na czas działania takiej funkcji.\n",
    "\n",
    "## Generatory\n",
    "\n",
    "Załóżmy, że mamy funkcję, która zwraca listę wartości, a lista ta jest następnie przekazana do pętli `for`. Wykonane zostaną następujące operacje, wywołanie funkcji, przekazanie wyniku do zmiennej lokalnej funkcji głównej (wywołującej), a następnie iterowanie po kolejnych elementach listy. Jeśli algorytm wyszukuje konkretną wartość na liście, bez względu na to, który to element listy, w pamięci zostanie zadeklarowana pełna tablica. Taki algorytm jest efektywny jedynie w przypadku, gdy wygenerowanie każdego elementu listy ma małą złożoność obliczeniową. Przyjmijmy, że mam przypadek drugi, w którym przeszukujemy zawartość dużych plików. Wylistowanie zawartości wszystkich plików, aby następnie po nich wyszukiwać jest nieefektywne. Pomocne są wtedy generatory, które nie kończą działania w momencie przekazania wartości do funkcji wywołującej. Kolejny przykład ilustruje sposób deklaracji generatora."
   ],
   "metadata": {
    "collapsed": false,
    "pycharm": {
     "name": "#%% md\n"
    }
   }
  },
  {
   "cell_type": "code",
   "execution_count": null,
   "source": [
    "def fun_gen(count):\r\n",
    "    for i in range(count):\r\n",
    "        print(f'iter: {i} in fun_gen')\r\n",
    "        if i % 2 == 0:\r\n",
    "            yield i\r\n",
    "\r\n",
    "for i in fun_gen(10):\r\n",
    "    print(f'iter: {i} in main')\r\n",
    "    print(i)"
   ],
   "outputs": [],
   "metadata": {
    "collapsed": false,
    "pycharm": {
     "name": "#%%\n"
    }
   }
  },
  {
   "cell_type": "markdown",
   "source": [
    "Funkcja `fun_gen` zwraca po jednym elemencie liczbę parzystą z przedziału od zera do `count`. Sterowanie programu przechodzi między funkcję `fun_gen`, a instrukcją `for` kodu wywołującego funkcję `fun_gen`. Wcześniejsze zakończenie działania generatora może nastąpić po wywołaniu wyjątku z funkcji `fun_gen`, w kodzie wywołującym po wyjściu z pętli za pomocą słowa kluczowego `break` lub w samym generatorze po wywołaniu `return`."
   ],
   "metadata": {
    "collapsed": false,
    "pycharm": {
     "name": "#%% md\n"
    }
   }
  },
  {
   "cell_type": "code",
   "execution_count": null,
   "source": [
    "def fun_gen(count):\r\n",
    "    for i in range(count):\r\n",
    "        print(f'iter: {i} in fun_gen')\r\n",
    "        if i % 2 == 0:\r\n",
    "            yield i\r\n",
    "        elif i % 3 == 0 and i > 0:\r\n",
    "            return\r\n",
    "\r\n",
    "for i in fun_gen(10):\r\n",
    "    print(f'iter: {i} in main')\r\n",
    "    print(i)\r\n",
    "\r\n",
    "    if i > 100:\r\n",
    "        break"
   ],
   "outputs": [],
   "metadata": {
    "collapsed": false,
    "pycharm": {
     "name": "#%%\n"
    }
   }
  },
  {
   "cell_type": "markdown",
   "source": [
    "Do otrzymania kolejnych elementów można użyć funkcji wbudowanej `next`, co prezentuje kolejny przykład."
   ],
   "metadata": {
    "collapsed": false,
    "pycharm": {
     "name": "#%% md\n"
    }
   }
  },
  {
   "cell_type": "code",
   "execution_count": null,
   "source": [
    "def fun_gen(count):\r\n",
    "    for i in range(count):\r\n",
    "        if i % 2 == 0:\r\n",
    "            yield i\r\n",
    "\r\n",
    "print(next(fun_gen(10)))"
   ],
   "outputs": [],
   "metadata": {
    "collapsed": false,
    "pycharm": {
     "name": "#%%\n"
    }
   }
  },
  {
   "cell_type": "markdown",
   "source": [
    "Realizacja generatorów odbywa się poprzez tzw. iteratory. W momencie kompilacji funkcji ze słowem kluczowym `yield`, kompilator tworzy iterator dla tej funkcji. Tworzenie własnych iteratorów jest możliwe implementując funkcje `__next__` we własnej klasie. Zadaniem tej funkcji jest przechowywanie aktualnie zwróconej wartości, a jej kolejne wywołanie, zwrócenie kolejnych rezultatów, tzn. dla tej samej instancji iteratora funkcja `__next__` wywoływana jest wielokrotnie.\n",
    "\n",
    "Powyższe przykłady przedstawiały skończone generatory dane parametrem `count`. Można jednak tworzyć nieskończone generatory, co jest bardzo przydatne w momencie, gdy nie jest znana liczba elementów jakie należy wygenerować. Przykładem może tu być generowanie liczby pierwszej większej niż zadana liczba.\n",
    "\n",
    "## Zadania do wykonania\n",
    "\n",
    "### Zadanie 1\n",
    "\n",
    "Napisz dekorator, który autoryzuje użytkownika na podstawie podanego loginu i hasła. Do przechowywania danych należy wykorzystać klasę `shelve`. Do maskowania hasła można użyć następującej funkcji:"
   ],
   "metadata": {
    "collapsed": false,
    "pycharm": {
     "name": "#%% md\n"
    }
   }
  },
  {
   "cell_type": "code",
   "execution_count": null,
   "source": [
    "import hashlib, binascii, hmac\r\n",
    "from os import urandom\r\n",
    "import shelve\r\n",
    "\r\n",
    "def open_db(func):\r\n",
    "    def wrapper(*args, **kwargs):\r\n",
    "        try:\r\n",
    "            with shelve.open(\"login_auth.db\") as shelf:\r\n",
    "                args = (*args, shelf) if args else (shelf,)\r\n",
    "                return func(*args, **kwargs)\r\n",
    "        except Exception as e:\r\n",
    "            print(f'Error found: {e}')\r\n",
    "    return wrapper\r\n",
    "\r\n",
    "@open_db\r\n",
    "def salt_to_file(shelf):\r\n",
    "    shelf['salt'] = hashlib.sha256(urandom(60)).hexdigest().encode('ascii')\r\n",
    "\r\n",
    "@open_db\r\n",
    "def add_user(login: str, password: str, shelf):\r\n",
    "        shelf[login] = hash_password(password)\r\n",
    "\r\n",
    "@open_db\r\n",
    "def hash_password(password, shelf):\r\n",
    "    \"\"\"Hash a password for storing.\"\"\"\r\n",
    "    pwdhash = hashlib.pbkdf2_hmac('sha512', password.encode('utf-8'),\r\n",
    "                                  shelf['salt'], 100000)\r\n",
    "    pwdhash = binascii.hexlify(pwdhash)\r\n",
    "    return (shelf['salt'] + pwdhash).decode('ascii')\r\n",
    "\r\n",
    "@open_db\r\n",
    "def auth_user(user: str, passwd: str, shelf):\r\n",
    "    for id, key in shelf.items():\r\n",
    "        if (str(id) == user) and (hmac.compare_digest(key, hash_password(passwd))):\r\n",
    "             return f'User {user} is logged'\r\n",
    "\r\n",
    "salt_to_file()\r\n",
    "\r\n",
    "add_user('akLeszek', 'test1234')\r\n",
    "add_user('zbyszek', 'zaq1234')\r\n",
    "add_user('andrzej', 'qaz1234')\r\n",
    "add_user('joda', 'qwertyuiop0987')\r\n",
    "\r\n",
    "print(auth_user('akLeszek', 'test1234'))\r\n",
    "print(auth_user('zbyszek', 'zaq1234'))\r\n",
    "print(auth_user('andrzej', 'qaz1234'))\r\n",
    "print(auth_user('joda', 'qwertyuiop0987'))"
   ],
   "outputs": [],
   "metadata": {
    "collapsed": false,
    "pycharm": {
     "name": "#%%\n"
    }
   }
  },
  {
   "cell_type": "markdown",
   "source": [
    "Należy pamiętać, że `salt` należy utworzyć raz i zachować w chronionym pliku.\r\n",
    "\r\n",
    "### Zadanie 2\r\n",
    "\r\n",
    "Napisz dekorator, który ogranicza argument funkcji do zadanego przedziału."
   ],
   "metadata": {
    "collapsed": false,
    "pycharm": {
     "name": "#%% md\n"
    }
   }
  },
  {
   "cell_type": "code",
   "execution_count": null,
   "source": [
    "def restrain(a: int, b: int):\r\n",
    "   def wrapper(fun):\r\n",
    "       def inner_wraper(*args):\r\n",
    "           aa = a\r\n",
    "           bb = b\r\n",
    "           if args[0] > a:\r\n",
    "               aa = args[0]\r\n",
    "           if args[1] < b:\r\n",
    "               bb = args[1]\r\n",
    "           return fun(aa, bb)\r\n",
    "       return inner_wraper\r\n",
    "   return wrapper\r\n",
    "\r\n",
    "@restrain(-2, 2)\r\n",
    "def tmp(a, b):\r\n",
    "    return a * b\r\n",
    "\r\n",
    "print(tmp(-1, 3))"
   ],
   "outputs": [],
   "metadata": {}
  },
  {
   "cell_type": "markdown",
   "source": [
    "### Zadanie 3\r\n",
    "\r\n",
    "Napisz generator, który dla zadanego wielomianu i przedziału wartości, zwróci jego miejsca zerowe. Dla pierwszego wywołania wynikiem ma być pierwsze miejsce zerowe, dla drugiego, drugie itd. Można zastosować naiwny algorytm sprawdzający kolejne wartości wielomianu. Można również zastosować kodowanie wielomianu bezpośrednio w kodzie języka Python: `x**n*x**(n-1)`."
   ],
   "metadata": {}
  },
  {
   "cell_type": "code",
   "execution_count": null,
   "source": [
    "import numpy as np\r\n",
    "\r\n",
    "def poli_calc(poly, range):\r\n",
    "    polynomial = np.poly1d(poly)\r\n",
    "    print(f'Zadany wielomian:\\n{polynomial}\\n')\r\n",
    "    roots = polynomial.r\r\n",
    "    # print(roots)\r\n",
    "    for i in roots:\r\n",
    "        if range[0] <= i <= range[1]:\r\n",
    "            yield i\r\n",
    "\r\n",
    "gen = poli_calc([1, 9, -2, -18, 0], [-1.5, 1.5])\r\n",
    "\r\n",
    "print(next(gen))\r\n",
    "print(next(gen))\r\n",
    "print(next(gen))"
   ],
   "outputs": [],
   "metadata": {}
  }
 ],
 "metadata": {
  "kernelspec": {
   "display_name": "Python 3",
   "language": "python",
   "name": "python3"
  },
  "language_info": {
   "codemirror_mode": {
    "name": "ipython",
    "version": 2
   },
   "file_extension": ".py",
   "mimetype": "text/x-python",
   "name": "python",
   "nbconvert_exporter": "python",
   "pygments_lexer": "ipython2",
   "version": "2.7.6"
  }
 },
 "nbformat": 4,
 "nbformat_minor": 2
}