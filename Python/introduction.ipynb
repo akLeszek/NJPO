{
 "cells": [
  {
   "cell_type": "markdown",
   "source": [
    "# Wprowadzenie do języka Python\n",
    "\n",
    "W niniejszym rozdziale zostaną przedstawione informacje związane z podstawowymi typami danych, przepływem sterownia programu oraz zarządzaniem modułami. Rozdział ten przeznaczony jest dla osób zaznajomionych z co najmniej jednym językiem programowania. Na końcu znajdują się zadania do wykonania.\n",
    "\n",
    "## Typy danych\n",
    "\n",
    "Język Python zawiera wiele wbudowanych dostępnych w bibliotekach standardowy typów danych. Poniżej znajduje się krótka lista najczęściej stosowanych.\n",
    "\n",
    "| Typ  | Opis |\n",
    "|-|-|\n",
    "| `int` | Standardowy typ całkowitoliczbowy o długości 32 bity. Zawiera liczne przeciążone operatora np. // dla dzielenia bez reszty. |\n",
    "| `str` | Łańcuch znaków, domyślnie w języku Python każdy znak jest kodowany w unikodzie (_Unicode_). Istnieją trzy sposoby inicjalizacji łańcucha, za pomocą cudzysłowów: (i) pojedynczych, (ii) podwójnych i (iii) potrójnych (pojedynczych lub podwójnych). Pierwsze dwa są stosowane do tekstu jednolinijkowego, oczywiście można stosować \\n do łamania linii (w momencie wyświetlenia), ale chodzi o zapis w samym kodzie programu, przykładowo `n_1='a'`, `n_2=\"b\"`. Potrójny cudzysłów (pojedynczy lub podwójny) używany jest do tekstu wielolinijkowego. Przed łańcuchem można użyć dodatkowo symbolu `b` oznaczającego kodowanie bajtowe (8 bitowe), wtedy każdy znak będzie kodowany w _ASCII_ np. `n_3=b'tekst'`. Dodatkowo można użyć symbolu `f` do formatowania łańcuchu znaków bezpośrednio w samym tekście np. `n=12`, a następnie `n_4=f'Liczba: {n}'`, gdzie `n` oznacza zmienną. Więcej przykładów można znaleźć w dalszej części (oczywiście można też użyć podwójnych cudzysłowów z `f`.\n",
    "| `float` | Domyślny typ zmienooprzecinkowy. Można wymusić stosowanie tego typu poprzez użycie `.` w liczbie np. 1.0, .1 (0.1). |\n",
    "| `double` | Liczba zmienooprzecinkowa o podwójnej precyzji. |\n",
    "| `bool` | Typ logiczny szczególnie popularny w warunkach. Słowo `True` w Pythonie oznacza prawdę, `False` fałsz.\n",
    "| `tuple` | Sekwencja wartości. Jest typem niezmiennym (immutable), razy utworzona jej elementów nie da się zmieniać. Najczęściej stosuje się ją jako wynik działania funkcji, co umożliwia przekazywanie wielu zmiennych bez konieczności tworzenia nowego typu. Dostęp do jej elementów można uzyskać poprzez indeks lub poprzez rozpakowanie, co zostanie pokazane w dalszej części. Tuple można tworzyć za pomocą kodu: `('a', 2, True)` lub `my_tuple='a',2, True`. Bardzo częstym błędem jest przypadkowe użycie `t=1,`, co powoduje utworzenie tupli nie zmiennej typu `int`. |\n",
    "| `range` | Typ zawierający sekwencję liczb. Istnieje możliwość ustalenia początkowego i końcowego elementu sekwencji oraz skoku kolejnych liczb np. `range(10)`, `range(2,10)`, `range(1,10,2)`. |\n",
    "| `datetime` | Typ odpowiadający za datę i godzinę. Umożliwia operacje na czasie np. dodanie godziny czy dni. |\n",
    "| `list`, `[]` | Lista elementów dowolnego typu. Zawiera wiele przydatnych metod, które zostaną omówione w dalszej części. Tworzenie listy przypomina tworzenie tablicy w innych językach programowania tj. `lst=[1,'a', True]`. Co istotne elementy nie muszą być tego samego typu, co zostało pokazane w przykładzie. Jest to najbardziej podstawa struktura danych w języku Python. W odróżnieniu od tablic, nie trzeba deklarować jej liczby elementów. Wewnętrznie typ ten realizowany jest poprzez tablicę. Wywołanie funkcji `append` przypisuje wartość do wolnego miejsca w tablicy. W momencie przekroczenia liczby elementów jakie może pomieścić tablica, funkcja `append` tworzy kolejną większą tablicę i kopiuje elementy z poprzedniej. Operacja jest kosztowa czasowo, dlatego tworzone tablice są odpowiednio długie. Z drugiej strony powoduje to straty pamięci (nieprzypisane elementy tablicy są zadeklarowane, ale niewykorzystywane). Odczyt i zapis elementu listy ma złożoność stałą $O(1)$, szukanie konkretnej wartości odbywa się za pomocą przeglądu całej listy o złożoności $O(n)$. Synonimem klasy `List` są podwójne nawiasy kwadratowe. Bardzo przydatną funkcją jest `extend`. W przeciwieństwie do funkcji `append`, umożliwia przekazanie wielu elementów na raz. |\n",
    "| `dict`, `{k:v}` | Słownik (kolekcja), którego elementy składającą się z klucza dowolnego typu, dla którego da się obliczyć funkcję skrótu (hash) oraz wartości również dowolnego typu. Przykładowo słownik można utworzyć następująco: `d={'k1': 'v1','k2': 'v2'}` lub np. bezpośrednio z listy tupli `d=Dict([('k1', 'v1'),('k2', 'v2')])`.\n",
    "| `set`, `{}` | Zbiór unikalnych elementów dowolnych typów. W jednej instancji zbioru może być wiele typów jednocześnie np. `{1,1.0,True}`. |\n",
    "| `funktor` | Jest to zmienna zawierająca wskaźnik na funkcję. Bardzo często takie zmienne używa się w funkcjach ogólnego przeznaczenia jak sortowanie. Za pomocą funktora możemy przekazać informacje, które wartości należy porównać (w przypadku bardziej skomplikowanych typów jak klasy). Funktor tworzy się przy użyciu np. słowa kluczowego lambda `funct=lambda a,b: a+b`, a następnie wywołać funktor można przy użyciu instrukcji `val=funct(1,2)`, co spowoduje przypisanie zmiennej `val` wartości 3 (1+2). Warto w tym miejscu zwrócić uwagę na brak typów, co umożliwia poprawne wywołanie funktora z parametrami `funct('1', '2')`, co zwróci napis `12`. Więcej informacji na temat deklaracji funkcji i wyrażeń `lambda` można znaleźć w dalszej części. |\n",
    "\n",
    "## Operatory i operacje\n",
    "\n",
    "Siłę Pythona stanowią bardzo rozbudowane funkcje i operatory. Oprócz znanych operatorów arytmetycznych można znaleźć również inne, nie występujące nigdzie indziej. Poniżej znajdują się wybrane operacje, ich pełną listę można znaleźć pod adresem: https://www.w3schools.com/python/python_operators.asp.\n",
    "\n",
    "### Operacje na łańcuchach znaków\n",
    "\n",
    "Operator gwiazdki między łańcuchem znaków i liczby oznacza powielenie łańcuch znaków $n$ razy."
   ],
   "metadata": {
    "collapsed": true,
    "pycharm": {
     "name": "#%% md\n"
    }
   }
  },
  {
   "cell_type": "code",
   "execution_count": null,
   "source": [
    "print('ala ma kota,' * 5)"
   ],
   "outputs": [],
   "metadata": {
    "collapsed": false,
    "pycharm": {
     "name": "#%%\n"
    }
   }
  },
  {
   "cell_type": "markdown",
   "source": [
    "W powyższym przykładzie została użyta funkcja `print`, która wyświetla napis na konsoli. Jest to metoda standardowa wbudowana w język. W _Jupyter Notebook_ można stosować również funkcję `display` oraz użyć zmiennej bez żadnej operacji, co spowoduje wypisanie jej zawartości na ekran. Obie metody nie są dostępne standardowo w samym języku.\n",
    "Jako znak ucieczki należy stosować ukośnik `\\`."
   ],
   "metadata": {
    "collapsed": false,
    "pycharm": {
     "name": "#%% md\n"
    }
   }
  },
  {
   "cell_type": "code",
   "execution_count": null,
   "source": [
    "print('tekst\\ntekst\\\\n\\'\\\"')"
   ],
   "outputs": [],
   "metadata": {
    "collapsed": false,
    "pycharm": {
     "name": "#%%\n"
    }
   }
  },
  {
   "cell_type": "markdown",
   "source": [
    "Funkcja `join` umożliwia konkatenację łańcuchów znaków w listę bez konieczności usuwania ostatniego separatora z powstałego tekstu."
   ],
   "metadata": {
    "collapsed": false,
    "pycharm": {
     "name": "#%% md\n"
    }
   }
  },
  {
   "cell_type": "code",
   "execution_count": null,
   "source": [
    "t=['a', 'b', 'c', 'd']\r\n",
    "print(','.join(t))"
   ],
   "outputs": [],
   "metadata": {
    "collapsed": false,
    "pycharm": {
     "name": "#%%\n"
    }
   }
  },
  {
   "cell_type": "markdown",
   "source": [
    "Funkcja `textwrap` umożliwia usunięcie białych znaków (niewidocznych np. odstępy) na początku i na końcu tekstu."
   ],
   "metadata": {
    "collapsed": false,
    "pycharm": {
     "name": "#%% md\n"
    }
   }
  },
  {
   "cell_type": "code",
   "execution_count": null,
   "source": [
    "s='   a b c \\t\\n'\r\n",
    "print(s.strip())\r\n",
    "print(str.strip(s))"
   ],
   "outputs": [],
   "metadata": {
    "collapsed": false,
    "pycharm": {
     "name": "#%%\n"
    }
   }
  },
  {
   "cell_type": "markdown",
   "source": [
    "Dodatkowo każdą funkcję można wywołać na instancji obiektu lub na jego typie. Język Python jest obiektowy, więc każdy typ również jest obiektem.\n",
    "\n",
    "Poniżej znajduje się przykładowe wywołanie funkcji `title` pozwalającej zamienić pierwsze litery w słowie na wielkie, `split` umożliwiającej dzielenie łańcucha znaków na listę wg. separatora oraz innych bardzo przydatnych funkcji, których nazwy są dość oczywiste."
   ],
   "metadata": {
    "collapsed": false,
    "pycharm": {
     "name": "#%% md\n"
    }
   }
  },
  {
   "cell_type": "code",
   "execution_count": null,
   "source": [
    "print('łukasz strąk'.title())\r\n",
    "print('a,b,c,d'.split(','))\r\n",
    "print('abc'.islower())\r\n",
    "print('123'.isnumeric())\r\n",
    "print('tekst123'.endswith('123'))"
   ],
   "outputs": [],
   "metadata": {
    "collapsed": false,
    "pycharm": {
     "name": "#%%\n"
    }
   }
  },
  {
   "cell_type": "markdown",
   "source": [
    "Symbol `f` przed łańcuchem znaków umożliwia oprócz wstawiania zmiennych (oraz kodu w języku Python) bezpośrednio w samym tekście."
   ],
   "metadata": {
    "collapsed": false,
    "pycharm": {
     "name": "#%% md\n"
    }
   }
  },
  {
   "cell_type": "code",
   "execution_count": null,
   "source": [
    "id=20\r\n",
    "n1,n2='łukasz','strąk'\r\n",
    "suma=123.4567\r\n",
    "print(f\"id: {id}, name: {n1.title().rjust(10, '*')}, surname: {n2.title().rjust(10, '=')}\")\r\n",
    "id2,n3,n4=21,'Jan','kowalski'\r\n",
    "print(f'id: {id2}, name: {n3.title().rjust(10, \"*\")}, surname: {n4.title().rjust(10, \"=\")}')"
   ],
   "outputs": [],
   "metadata": {
    "collapsed": false,
    "pycharm": {
     "name": "#%%\n"
    }
   }
  },
  {
   "cell_type": "markdown",
   "source": [
    "W linii 2 została użyta konstrukcja umożliwiająca wielokrotne przypisywanie w jednej linii (zmiennej `n1` i `n2`) odpowiednich wartości odpowiednim zmiennym wg. kolejności w sekwencji. W linii 4 na zmiennej `n1` została wykonana funkcja `title` oraz `rjust`, która uzupełnia brakujące znaki (parametr 10 wskazuje, że zawsze ma być ich 10) za pomocą znaku zdefiniowanego w drugim parametrze. Warto też zwrócić uwagę, że znak cudzysłowu występuje w parametrze (funkcji `rjust`). Kompilator wymaga, aby jeden typ był użyty do samego łańcucha znaków, a drugi typ do przekazywania parametrów, tak jak zostało to użyte w przykładzie. Nie ma znaczenie, która para jest użyta w którym miejscu.\n",
    "\n",
    "Funkcja `format` pozwala na stosowanie dodatkowych opcji formatowania."
   ],
   "metadata": {
    "collapsed": false
   }
  },
  {
   "cell_type": "code",
   "execution_count": null,
   "source": [
    "print('{:>10} and {:<10} = {:.2f}'.format(\"Test\", \"Test\",1.234567))"
   ],
   "outputs": [],
   "metadata": {
    "collapsed": false,
    "pycharm": {
     "name": "#%%\n"
    }
   }
  },
  {
   "cell_type": "markdown",
   "source": [
    "W ten sposób łatwo można wyświetlić odpowiedni sformatowany wynik lub przekazać go do zmiennej. Znacznie więcej opcji można znaleźć pod adresem:\n",
    "https://docs.python.org/3.8/library/string.html#formatstrings.\n",
    "\n",
    "### Operacje na sekwencjach\n",
    "\n",
    "Manipulacje w Pythonie listy może być nieco mylące ze względu na liczne możliwości niedostępne w innych językach. Dostać się do elementu listy można wskazując konkretny element sekwencji np. listy. Dodatkowo można przy użyciu funkcji `len` można sprawdzić długość tablicy. Dodatkowo używając jedynie samej zmiennej w warunku łatwo sprawdzić czy lista jest niezainicjowana `None` (odpowiednik `NULL` w języku Python) lub pusta. Jest to tzw. _syntax sugar_ poprawiający czytelność kodu."
   ],
   "metadata": {
    "collapsed": false,
    "pycharm": {
     "name": "#%% md\n"
    }
   }
  },
  {
   "cell_type": "code",
   "execution_count": null,
   "source": [
    "lst=[1,2,3,4,5,6]\r\n",
    "print(lst[0])\r\n",
    "print(len(lst))\r\n",
    "lst2=[]\r\n",
    "print(not lst2) # samo lst2 zwraca False w warunku, lst True ponieważ jest zainicjowane"
   ],
   "outputs": [],
   "metadata": {
    "collapsed": false,
    "pycharm": {
     "name": "#%%\n"
    }
   }
  },
  {
   "cell_type": "markdown",
   "source": [
    "Używając ujemnej wartości łatwo otrzymać element od końca listy."
   ],
   "metadata": {
    "collapsed": false
   }
  },
  {
   "cell_type": "code",
   "execution_count": null,
   "source": [
    "lst=[1,2,3,4,5,6]\r\n",
    "print(lst[-1])\r\n",
    "print(lst[-2])\r\n",
    "print(lst[-3])"
   ],
   "outputs": [],
   "metadata": {
    "collapsed": false,
    "pycharm": {
     "name": "#%%\n"
    }
   }
  },
  {
   "cell_type": "markdown",
   "source": [
    "Notacja z użyciem dwukropka pozwala na kopiowanie wskazanych elementów. Po lewej stronie wskazujemy pierwszy element, po prawej stronie dwukropka ostatni. Można również użyć ujemnych wartości. Brak jakiegokolwiek parametru po którejkolwiek ze stron dwukropka spowoduje zapis oznaczający aż do lub od."
   ],
   "metadata": {
    "collapsed": false
   }
  },
  {
   "cell_type": "code",
   "execution_count": null,
   "source": [
    "lst=[1,2,3,4,5,6]\r\n",
    "print(lst[1:])\r\n",
    "print(lst[:5])\r\n",
    "print(lst[1:-1])\r\n",
    "print(lst[:-2])\r\n",
    "print(lst[-3:])"
   ],
   "outputs": [],
   "metadata": {
    "collapsed": false,
    "pycharm": {
     "name": "#%%\n"
    }
   }
  },
  {
   "cell_type": "markdown",
   "source": [
    "Stosując trzeci dwukropek można wskazać co który element nastąpi kopiowanie."
   ],
   "metadata": {
    "collapsed": false,
    "pycharm": {
     "name": "#%% md\n"
    }
   }
  },
  {
   "cell_type": "code",
   "execution_count": null,
   "source": [
    "lst=[1,2,3,4,5,6]\r\n",
    "print(lst[0:5:2])"
   ],
   "outputs": [],
   "metadata": {
    "collapsed": false,
    "pycharm": {
     "name": "#%%\n"
    }
   }
  },
  {
   "cell_type": "markdown",
   "source": [
    "Te same operacje można wykonać na łańcuchach znaków. Dostęp do pojedynczego elementu łańcucha można otrzymać poprzez indeks wpisany w nawiasie kwadratowym."
   ],
   "metadata": {
    "collapsed": false
   }
  },
  {
   "cell_type": "code",
   "execution_count": null,
   "source": [
    "text=\"Ala ma kota\"\r\n",
    "print(text[0:3])"
   ],
   "outputs": [],
   "metadata": {
    "collapsed": false,
    "pycharm": {
     "name": "#%%\n"
    }
   }
  },
  {
   "cell_type": "markdown",
   "source": [
    "Za pomocą słowa kluczowego `in` można porównywać elementy listy. Binarny operator porównania dwóch list porównuje listę po lewej stronie słowa kluczowego do każdego elementu z listy drugiej. Nie działa to na zasadzie porównywania każdego elementu obu list."
   ],
   "metadata": {
    "collapsed": false
   }
  },
  {
   "cell_type": "code",
   "execution_count": null,
   "source": [
    "lst=[1,2,3,4,5,6]\r\n",
    "print(1 in lst)\r\n",
    "print(10 not in lst)\r\n",
    "print([1,2] in lst)\r\n",
    "print([1,6] in lst)\r\n",
    "lst2=[[1,2],[3,4]]\r\n",
    "print([1,2] in lst2)\r\n",
    "\r\n",
    "s={1,6} # inicjalizacja zbioru\r\n",
    "print(s.issubset({1,2,3,4,5,6}))\r\n",
    "print(s <= {1,2,3,4,5,6})"
   ],
   "outputs": [],
   "metadata": {
    "collapsed": false,
    "pycharm": {
     "name": "#%%\n"
    }
   }
  },
  {
   "cell_type": "markdown",
   "source": [
    "Więcej przykładów można znaleźć pod adresem:\n",
    "https://docs.python.org/3.8/library/stdtypes.html#common-sequence-operations\n",
    "\n",
    "### Czas\n",
    "\n",
    "Obsługa czasu jest jedną z ważniejszych funkcji prawie każdego programu. W języku Python w bibliotekach standardowych istnieją cztery najbardziej podstawowe klasy do zarządzania czasem: `datetime`, `date`, `time`, `timedelta`. Pierwszy zawiera datę i godzinę wraz z podstawowymi operacjami na datach jak dodanie godziny (co może spowodować zmianę np. roku). Typ `date` i `time` zawierają kolejno datę oraz godzinę, a `timedelta` zwracany jest przy operacjach między dwoma datami.\n",
    "Użycie powyższych typów wymaga importu biblioteki standardowej `datetime`."
   ],
   "metadata": {
    "collapsed": false
   }
  },
  {
   "cell_type": "code",
   "execution_count": null,
   "source": [
    "from datetime import datetime, timedelta\r\n",
    "dt = datetime.now()\r\n",
    "print(dt)\r\n",
    "dt_plus_ten = dt + timedelta(minutes=10)\r\n",
    "print(dt_plus_ten)\r\n",
    "print(dt_plus_ten-dt)\r\n",
    "print((dt_plus_ten-dt).total_seconds())"
   ],
   "outputs": [],
   "metadata": {
    "collapsed": false,
    "pycharm": {
     "name": "#%%\n"
    }
   }
  },
  {
   "cell_type": "markdown",
   "source": [
    "Funkcja `now` przyjmuje parametr `tz`, przyjmujący domyślną wartość `None`, co oznacza strefę `UTC`. Częstym zadaniem programisty związanym z manipulację czasem jest parsowanie daty na podstawie zadanego formatu oraz wyświetlanie daty wg. wzorca. Do pierwszego zadania służy funkcja `strftime` obiektu typu datetime, do drugiego `strpfrm` tej samej klasy."
   ],
   "metadata": {
    "collapsed": false
   }
  },
  {
   "cell_type": "code",
   "execution_count": null,
   "source": [
    "from datetime import datetime\r\n",
    "print(datetime.now().strftime('%Y-%m-%dT%H:%M:%S.%f')) # format ISO dość powszechnie stosowany\r\n",
    "dt=datetime.strptime('2020-10-01T12:12:00', '%Y-%m-%dT%H:%M:%S')\r\n",
    "print(dt)"
   ],
   "outputs": [],
   "metadata": {
    "collapsed": false,
    "pycharm": {
     "name": "#%%\n"
    }
   }
  },
  {
   "cell_type": "markdown",
   "source": [
    "Więcej na temat symboli służącym do formatowania można znaleźć pod adresem:\n",
    "https://docs.python.org/3/library/datetime.html#strftime-and-strptime-format-codes\n",
    "\n",
    "### Tuple\n",
    "\n",
    "Tuple umożliwiają tworzenie kontenera na zmienne lub stałe. Dotyczy to zarówno rezultatu działania funkcji jak również przechowywania bardziej złożonych elementów jako listy (lista tupli). Istnieje parę sposobów na dostęp do każdego elementu tupli. Poprzez indeks lub rozpakowanie. Jednak nie da się zmienić raz utworzonej tupli. Próba przypisania nowej wartości spowoduje błąd."
   ],
   "metadata": {
    "collapsed": false
   }
  },
  {
   "cell_type": "code",
   "execution_count": null,
   "source": [
    "t=(1,2,3)\r\n",
    "print(t[0]) # dostęp z poziomu indeksu\r\n",
    "print(t[-1])\r\n",
    "print(t[0:2])\r\n",
    "v1,v2,v3=t\r\n",
    "print(v1)\r\n",
    "print(v2)\r\n",
    "print(v3)"
   ],
   "outputs": [],
   "metadata": {
    "collapsed": false,
    "pycharm": {
     "name": "#%%\n"
    }
   }
  },
  {
   "cell_type": "markdown",
   "source": [
    "Istnieje również cały szereg możliwości związanych z rozpakowywaniem. Dobrą praktyką jest użycie podkreślenia, w przypadku, gdy nie jest nam potrzebny element tupli. Nie ma potrzeby wprowadzania dodatkowych symboli do kodu, co odciąża osobę, która analizuje kod."
   ],
   "metadata": {
    "collapsed": false,
    "pycharm": {
     "name": "#%% md\n"
    }
   }
  },
  {
   "cell_type": "code",
   "execution_count": null,
   "source": [
    "t=1,2,3 # syntax sugar, nie musimy używać nawiasów, ale trzeba bardzo uważać na ten zapis\r\n",
    "v1,_,_=t\r\n",
    "print(v1)"
   ],
   "outputs": [],
   "metadata": {
    "collapsed": false,
    "pycharm": {
     "name": "#%%\n"
    }
   }
  },
  {
   "cell_type": "markdown",
   "source": [
    "Użycie symbolu gwiazdki ma za zadanie stworzenie kolekcji pozostałych wartości z rozpakowania."
   ],
   "metadata": {
    "collapsed": false,
    "pycharm": {
     "name": "#%% md\n"
    }
   }
  },
  {
   "cell_type": "code",
   "execution_count": null,
   "source": [
    "t=1,2,3,4,5,6,7\r\n",
    "v1,*v,v2=t\r\n",
    "print(v1)\r\n",
    "print(v)\r\n",
    "print(v2)\r\n",
    "\r\n",
    "v1,v2,*v3=t\r\n",
    "print(v1)\r\n",
    "print(v2)\r\n",
    "print(v3)"
   ],
   "outputs": [],
   "metadata": {
    "collapsed": false,
    "pycharm": {
     "name": "#%%\n"
    }
   }
  },
  {
   "cell_type": "markdown",
   "source": [
    "W momencie, w którym liczba zmiennych po lewej stronie rozpakowania nie jest zgodna z licznością kolekcji i nie występuje symbol gwiazdki, kod zgłosi błąd w czasie działania programu. Dobrą praktyką jest użycie gwiazdki wszędzie tam, gdzie liczba elementów tupli może być zmienna, ale takie przypadki nie powinny mieć miejsca. Symbol gwiazdki będzie jeszcze omawiany w kontekście funkcji.\n",
    "\n",
    "### Rzutowanie typów\n",
    "\n",
    "Jako, że Python jest obiektowym językiem programowania, każda zadeklarowana zmienna jest obiektem. Daje to możliwość konwersji jawnej lub niejawnej między typami danych (_explicit_ i _implicit_). Oba sposoby muszą być zdefiniowane przez programistę, aby Python pozwolił na takie rzutowanie (w przypadku własnych klas i typów). Domyślnie Python posiada wiele wbudowanych rzutowań dostępnych bez konieczności importowania dodatkowych bibliotek."
   ],
   "metadata": {
    "collapsed": false,
    "pycharm": {
     "name": "#%% md\n"
    }
   }
  },
  {
   "cell_type": "code",
   "execution_count": null,
   "source": [
    "print(1+1.0) # niejawne rzutowanie na float\r\n",
    "print(int(1.0)) # jawne rzutowanie"
   ],
   "outputs": [],
   "metadata": {
    "collapsed": false,
    "pycharm": {
     "name": "#%%\n"
    }
   }
  },
  {
   "cell_type": "markdown",
   "source": [
    "Aby upewnić się, że zmienna jest takiego typu jaki nam się wydaje możemy użyć funkcji `isinstance`. W tym kontekście bardzo przydatna może okazać się również funkcja `type`."
   ],
   "metadata": {
    "collapsed": false,
    "pycharm": {
     "name": "#%% md\n"
    }
   }
  },
  {
   "cell_type": "code",
   "execution_count": null,
   "source": [
    "a=12\r\n",
    "print(isinstance(a, int))\r\n",
    "print(type(a))\r\n",
    "b=1.0\r\n",
    "print(isinstance(b, float))\r\n",
    "print(type(b))\r\n",
    "\r\n",
    "print(type(a)==int) # niezalecane podejście"
   ],
   "outputs": [],
   "metadata": {
    "collapsed": false,
    "pycharm": {
     "name": "#%%\n"
    }
   }
  },
  {
   "cell_type": "markdown",
   "source": [
    "## Instrukcja warunkowa\n",
    "\n",
    "W języku Python instrukcja warunkowa składa się z ze słowa kluczowego `if` oraz opcjonalnych bloków `elif` lub jednego opcjonalnego bloku `else`. Brak nawiasów klamrowych wymaga użycia wcięć, które powinny być spójne w cały kodzie programu tzn. już na samym początku należy zastanowić się czy będziemy korzystali ze spacji czy tabulatorów. Większość znanych edytorów kodu automatycznie konwertują napisany kod, aby był spójny. Dość istotnym elementem jest dwukropek przed rozpoczęciem bloku, który ma za zadanie poprawić czytelność kodu i zamknąć linię. Nie ma również okrągłych nawiasów dzięki czemu kod zyskuje na czytelności."
   ],
   "metadata": {
    "collapsed": false,
    "pycharm": {
     "name": "#%% md\n"
    }
   }
  },
  {
   "cell_type": "code",
   "execution_count": null,
   "source": [
    "a=1\r\n",
    "if a==True: # niejawna konwersja na bool\r\n",
    "    print(f'Variable has value {a}')\r\n",
    "else:\r\n",
    "    print('Sth goes wrong')"
   ],
   "outputs": [],
   "metadata": {
    "collapsed": false,
    "pycharm": {
     "name": "#%%\n"
    }
   }
  },
  {
   "cell_type": "markdown",
   "source": [
    "Negacja warunku może być na początku wyrażenia (niezalecane) lub można użyć np. `not in` lub `!=`."
   ],
   "metadata": {
    "collapsed": false,
    "pycharm": {
     "name": "#%% md\n"
    }
   }
  },
  {
   "cell_type": "code",
   "execution_count": null,
   "source": [
    "t=(1,2,3)\n",
    "\n",
    "if 0 not in t: # in działa na liście jak i na tupli\n",
    "    print(f'Zero not in {t}')\n",
    "\n",
    "if 1 in t:\n",
    "    print(f'One is in {t}')\n",
    "\n",
    "if 0 in t or 1 in t: # or (lub) w warunku\n",
    "    print('0 or 1 ')\n",
    "elif 2 in t:\n",
    "    print('2 in t')"
   ],
   "outputs": [],
   "metadata": {
    "collapsed": false,
    "pycharm": {
     "name": "#%%\n"
    }
   }
  },
  {
   "cell_type": "markdown",
   "source": [
    "Oprócz warunku _lub_ (`or`) można również użyć _i_ (`and`) oraz negacji (`not`). Podobnie jak w innych językach programowania _i_ zostanie wykonane do pierwszej wartości `False` nie sprawdzając dalszych klauzul logicznych.\n",
    "\n",
    "Bardzo zalecane jest używanie pytonicznego podejścia do warunków (_Pythonic way of programming_)."
   ],
   "metadata": {
    "collapsed": false,
    "pycharm": {
     "name": "#%% md\n"
    }
   }
  },
  {
   "cell_type": "code",
   "execution_count": null,
   "source": [
    "test=None\n",
    "if test: # równoważne niezalecanemu test == None\n",
    "    print('Test is not null')\n",
    "else:\n",
    "    print('Test is null')\n",
    "\n",
    "tab=[]\n",
    "\n",
    "if tab: # równoważne if tab != None and len(tab) > 1\n",
    "    print('Do sth with tab')\n",
    "else:\n",
    "    print('Need to be initialized')\n",
    "    tab=[1,2,3]\n",
    "\n",
    "if tab:\n",
    "    print(f'Tab is {tab}')"
   ],
   "outputs": [],
   "metadata": {
    "collapsed": false,
    "pycharm": {
     "name": "#%%\n"
    }
   }
  },
  {
   "cell_type": "markdown",
   "source": [
    "W przypadku funkcji lub klas, które nie mają definicji można użyć słowa kluczowego `pass`. Zastosowanie tego słowa kluczowego ma szczególne zastosowanie w programowaniu obiektowym, omówionym w kolejnych laboratoriach."
   ],
   "metadata": {
    "collapsed": false,
    "pycharm": {
     "name": "#%% md\n"
    }
   }
  },
  {
   "cell_type": "code",
   "execution_count": null,
   "source": [
    "if 1 in [1,2,3]:\n",
    "    pass"
   ],
   "outputs": [],
   "metadata": {
    "collapsed": false,
    "pycharm": {
     "name": "#%%\n"
    }
   }
  },
  {
   "cell_type": "markdown",
   "source": [
    "### Porównywanie elementów\n",
    "\n",
    "Używając operatora logicznego `==` porównujemy dwa obiekty ze sobą. Większość typów prostych jak `int`, `float` czy `str` porównanie dotyczy wartości tych typów."
   ],
   "metadata": {
    "collapsed": false,
    "pycharm": {
     "name": "#%% md\n"
    }
   }
  },
  {
   "cell_type": "code",
   "execution_count": null,
   "source": [
    "a=12\n",
    "b=12.0\n",
    "c='Ala ma kota'\n",
    "if a==b and c=='Ala ma kota':\n",
    "    print('The same')"
   ],
   "outputs": [],
   "metadata": {
    "collapsed": false,
    "pycharm": {
     "name": "#%%\n"
    }
   }
  },
  {
   "cell_type": "markdown",
   "source": [
    "Funkcja wbudowana `id` umożliwia sprawdzenie globalnego identyfikatora zmiennej (jest to pewnego rodzaju adres w pamięci z pewnymi różnicami). Jednak należy uważać na stosowanie tej zmiennej w celu sprawdzenia czy dwie instancje wskazują na ten sam obiekt w pamięci."
   ],
   "metadata": {
    "collapsed": false,
    "pycharm": {
     "name": "#%% md\n"
    }
   }
  },
  {
   "cell_type": "code",
   "execution_count": null,
   "source": [
    "a=12\n",
    "b=12\n",
    "c='Ala ma kota'\n",
    "\n",
    "print(id(a))\n",
    "print(id(b))\n",
    "print(id(c))\n",
    "print(id('Ala ma kota'))"
   ],
   "outputs": [],
   "metadata": {
    "collapsed": false,
    "pycharm": {
     "name": "#%%\n"
    }
   }
  },
  {
   "cell_type": "markdown",
   "source": [
    "Chcąc sprawdzić czy dwa obiekty wskazują na ten sam obiekt należy użyć słów kluczowych `is` lub `is not`."
   ],
   "metadata": {
    "collapsed": false,
    "pycharm": {
     "name": "#%% md\n"
    }
   }
  },
  {
   "cell_type": "code",
   "execution_count": null,
   "source": [
    "print('Test 1')\n",
    "a= { 0: 'Y', 1: 'N'}\n",
    "b=a\n",
    "if a==b:\n",
    "    print('The same value')\n",
    "if id(a)==id(b):\n",
    "    print('The same identifiers')\n",
    "if a is b:\n",
    "    print('The same instances')\n",
    "\n",
    "print('Test 2')\n",
    "a= { 0: 'Y', 1: 'N' }\n",
    "b= { 0: 'Y', 1: 'N' }\n",
    "if a==b:\n",
    "    print('The same value')\n",
    "if id(a)==id(b):\n",
    "    print('The same identifiers')\n",
    "if a is b:\n",
    "    print('The same instances')"
   ],
   "outputs": [],
   "metadata": {
    "collapsed": false,
    "pycharm": {
     "name": "#%%\n"
    }
   }
  },
  {
   "cell_type": "markdown",
   "source": [
    "Pozostałe operatory logiczne można znaleźć pod adresem: https://www.w3schools.com/python/python_operators.asp.\n",
    "\n",
    "\n",
    "## Pętle\n",
    "\n",
    "Pętle można deklarować na dwa sposoby, za pomocą `for` i `while`. Zwykle przyjmuje się, że pierwsza z nich używana jest, gdy znamy liczbę iteracji, w drugim przypadku pętla zakończy działanie w momencie, gdy wyrażenie przyjmie wartość `False`. Podobnie jak w przypadku instrukcji warunkowej konieczne są wcięcia, które definiują wykonywany blok kodu aż do spełnienia warunku stopu."
   ],
   "metadata": {
    "collapsed": false
   }
  },
  {
   "cell_type": "code",
   "execution_count": null,
   "source": [
    "for i in range(2): # w argumencie range znajduje się liczba elementów sekwencji tj. len([0, 1])==2\n",
    "    print(i)\n",
    "\n",
    "for i in [1,2,3]:\n",
    "    print(i)\n",
    "\n",
    "stop = False\n",
    "\n",
    "while not stop:\n",
    "    print('Run code here')\n",
    "    stop = True\n",
    "\n",
    "print('done')"
   ],
   "outputs": [],
   "metadata": {
    "collapsed": false,
    "pycharm": {
     "name": "#%%\n"
    }
   }
  },
  {
   "cell_type": "markdown",
   "source": [
    "Dwa słowa kluczowe pojawiają się do wykorzystania w pętlach: `Break` oraz `Continue`. Pierwsze słowo można użyć do natychmiastowego zakończenia pętli, drugie do przejścia do kolejnej iteracji. Ma to szczególne zastosowanie w długich blokach kodu, gdzie normalne przejście do kolejnej iteracji lub sprawdzenie warunku kończącego pętle może spowodować ustawienie niepożądanych wartości."
   ],
   "metadata": {
    "collapsed": false,
    "pycharm": {
     "name": "#%% md\n"
    }
   }
  },
  {
   "cell_type": "code",
   "execution_count": null,
   "source": [
    "from random import Random\r\n",
    "\r\n",
    "\r\n",
    "rand = Random()\r\n",
    "try_count=1\r\n",
    "while True:\r\n",
    "    if rand.randint(0, 10) >= 10: # random [0,10]\r\n",
    "        break\r\n",
    "    else:\r\n",
    "        try_count += 1\r\n",
    "        continue\r\n",
    "\r\n",
    "print(f'Found in {try_count} tries')"
   ],
   "outputs": [],
   "metadata": {
    "collapsed": false,
    "pycharm": {
     "name": "#%%\n"
    }
   }
  },
  {
   "cell_type": "markdown",
   "source": [
    "W pierwszej linii został zaimportowany moduł `random` z biblioteki standardowej. Importowanie modułów zostanie omówione bardziej szczegółowo w dalszej części.\n",
    "\n",
    "## Przechwytywanie wyjątków\n",
    "\n",
    "Przechwytywanie wyjątków w języku Python działa podobnie jak w innych językach programowania obiektowego jak C++. Kod, który może wywołać błąd należy umieścić między słowami kluczowymi `try` i `except`. Ten ostatni przechwyci klasę błędu, którą poprzez typ można filtrować, co zostanie pokazane na przykładzie. Słowo kluczowe `except` jest opcjonalne i może być zastąpione przez `finally` lub `else`. Użycie pierwszego spowoduje uruchomienie bloku instrukcji bez względu na to czy kod w bloku `try` spowoduje błąd czy nie. Najczęściej stosuje się tą konstrukcję wtedy kiedy w gestii programisty leży zwalnianie zasobów i uchwytów systemowych np. do plików. Użycie słowa kluczowego `else` powoduje, że kod w tym bloku zostanie uruchomiony tylko w przypadku, gdy błąd nie wystąpi w bloku `try`."
   ],
   "metadata": {
    "collapsed": false,
    "pycharm": {
     "name": "#%% md\n"
    }
   }
  },
  {
   "cell_type": "code",
   "execution_count": null,
   "source": [
    "try:\r\n",
    "    i=0\r\n",
    "    val=10/i\r\n",
    "except ZeroDivisionError as e:\r\n",
    "    print(f'ZeroDivisionError: {e}')\r\n",
    "except Exception as e:\r\n",
    "    print(f'Generic error: {e}')"
   ],
   "outputs": [],
   "metadata": {
    "collapsed": false,
    "pycharm": {
     "name": "#%%\n"
    }
   }
  },
  {
   "cell_type": "markdown",
   "source": [
    "W powyższym przykładzie zostaje wywołany błąd typu `ZeroDivisionError` i taki też błąd jest wywoływany na konsolę. Niemniej jednak, gdyby kod nie był taki trywialny dowolna instrukcja mogłaby wywołać zupełnie typ błędu. Z tego też powodu dobrą praktyką jest ustawienie ostatniego bloku `except` na typ `Exception`. Dodatkowo dla czytelności kodu błędów, należy dodać jak najwięcej informacji do logu błędu np. przy dostępie do bazy danych filtrować błędy związane z połączeniem i błędy wykonania samego zapytania. Ułatwia to odnajdowanie błędów."
   ],
   "metadata": {
    "collapsed": false,
    "pycharm": {
     "name": "#%% md\n"
    }
   }
  },
  {
   "cell_type": "code",
   "execution_count": null,
   "source": [
    "try:\r\n",
    "    i=0\r\n",
    "    val=10/i\r\n",
    "except ZeroDivisionError as e:\r\n",
    "    print(f'ZeroDivisionError: {e}')\r\n",
    "except Exception:\r\n",
    "    print(f'Generic error') # konstrukcja as e jest opcjonalna\r\n",
    "finally:\r\n",
    "    print('Finally')"
   ],
   "outputs": [],
   "metadata": {
    "collapsed": false,
    "pycharm": {
     "name": "#%%\n"
    }
   }
  },
  {
   "cell_type": "markdown",
   "source": [
    "Blok `else` jest dość zaawansowaną techniką związaną z automatycznym zwalnianiem uchwytów do pliku (które gwarantują wyłączny dostęp do pliku). Następuje ono w momencie wyjścia z bloku, co nie łatwym zadaniem do obsłużenia."
   ],
   "metadata": {
    "collapsed": false,
    "pycharm": {
     "name": "#%% md\n"
    }
   }
  },
  {
   "cell_type": "code",
   "execution_count": null,
   "source": [
    "try:\r\n",
    "    with open('file.txt', 'w') as f:\r\n",
    "        f.write('Hello world')\r\n",
    "except FileExistsError as e:\r\n",
    "    print(f'File exists and is in use: {e}')\r\n",
    "except Exception as e:\r\n",
    "    print(f'Generic error: {e}')\r\n",
    "else:\r\n",
    "    print('File saved successfully')"
   ],
   "outputs": [],
   "metadata": {
    "collapsed": false,
    "pycharm": {
     "name": "#%%\n"
    }
   }
  },
  {
   "cell_type": "markdown",
   "source": [
    "Pomimo tego, iż `else` jest bardzo przydatny ze względu na czytelność jest rzadko stosowany. W linii 2 został otwarty uchwyt do pliku poprzez funkcję wbudowaną `open`. Konstrukcja `as f` ma za zadanie przypisać wszystkie dostępne funkcje obsługi pliku do zmiennej `f`. Funkcja `open` w przykładzie przyjmuje dwa parametry, nazwa pliku oraz tryp pracy. Użycie _'w'_ spowoduje otwarcie pliku tylko do zapisu, a np. użycie _'r'_ tylko do odczytu. Listę dostępnych opcji można znaleźć pod adresem: https://docs.python.org/3/library/functions.html?highlight=open#open. Kolejnym problem z jakim można się zmierzyć uruchamiając kod w języku Python są nieczytelne komunikaty błędów. Stosując jedynie klasę `Exception` w bloku `except` często trudno dociec, co spowodowało błąd. Bardzo przydatna jest tutaj zmienna `traceback`."
   ],
   "metadata": {
    "collapsed": false
   }
  },
  {
   "cell_type": "code",
   "execution_count": null,
   "source": [
    "from traceback import print_stack\n",
    "try:\n",
    "    a=None\n",
    "    a.read()\n",
    "except Exception as e:\n",
    "    print(f'Message: {e}')\n",
    "    print(f'Stack:\\n{print_stack()}')"
   ],
   "outputs": [],
   "metadata": {
    "collapsed": false,
    "pycharm": {
     "name": "#%%\n"
    }
   }
  },
  {
   "cell_type": "markdown",
   "source": [
    "Środowisko uruchomieniowe języka Python udostępnia dwie bardzo przydatne funkcje wbudowane: `locals` i 'globals'. Umożliwiają one wyświetlenie wszystkich zmiennych lokalnych i globalnych dostępnych w języku Python."
   ],
   "metadata": {
    "collapsed": false,
    "pycharm": {
     "name": "#%% md\n"
    }
   }
  },
  {
   "cell_type": "code",
   "execution_count": null,
   "source": [
    "a=1\r\n",
    "b=2\r\n",
    "c=True\r\n",
    "all_locals = locals()\r\n",
    "for local in all_locals:\r\n",
    "    print(local)"
   ],
   "outputs": [],
   "metadata": {
    "collapsed": false,
    "pycharm": {
     "name": "#%%\n"
    }
   }
  },
  {
   "cell_type": "markdown",
   "source": [
    "Wywoływanie błędów można wykonać używają słowa kluczowego `raise` i klasy błędu (dowolnej, która dziedziczy po `Exception`).\n",
    "\n",
    "## Dodatkowy warunek _else_ w pętlach\n",
    "\n",
    "Częstym zadaniem programisty jest sprawdzenie czy pętla uruchomiła się choć jedne raz. Można tego dokonać za pomocą warunku sprawdzającego wielkość iterowanego obiektu lub poprzez ustawienie flagi na przeciwną niż domyślnie zainicjalizowana. W języku Python można jednak zastosować o wiele bardziej czytelną i wyrafinowaną konstrukcję."
   ],
   "metadata": {
    "collapsed": false,
    "pycharm": {
     "name": "#%% md\n"
    }
   }
  },
  {
   "cell_type": "code",
   "execution_count": null,
   "source": [
    "print('For loop test')\r\n",
    "tab = []\r\n",
    "for i in tab:\r\n",
    "    print('Test')\r\n",
    "else:\r\n",
    "    print('List is empty')\r\n",
    "\r\n",
    "print('While loop test')\r\n",
    "i=0\r\n",
    "while i < len(tab):\r\n",
    "    print('Test')\r\n",
    "    i+= 1\r\n",
    "else:\r\n",
    "    print('Nothing done here')"
   ],
   "outputs": [],
   "metadata": {
    "collapsed": false,
    "pycharm": {
     "name": "#%%\n"
    }
   }
  },
  {
   "cell_type": "markdown",
   "source": [
    "## Instrukcje jednolinijkowe\n",
    "\n",
    "Podobnie jak w innych językach programowania w Python istnieje trzy argumentowy operator, jednak przyjmuje trochę inną konstrukcję niż ma to miejsce choćby w języku C++."
   ],
   "metadata": {
    "collapsed": false,
    "pycharm": {
     "name": "#%% md\n"
    }
   }
  },
  {
   "cell_type": "code",
   "execution_count": null,
   "source": [
    "a=1\r\n",
    "b=2 if a==1 else 1\r\n",
    "print(a)\r\n",
    "print(b)"
   ],
   "outputs": [],
   "metadata": {
    "collapsed": false,
    "pycharm": {
     "name": "#%%\n"
    }
   }
  },
  {
   "cell_type": "markdown",
   "source": [
    "Kolejną konstrukcją, która umożliwia tworzenie zaawansowanej logiki w jednej linii jest zastosowanie listy."
   ],
   "metadata": {
    "collapsed": false,
    "pycharm": {
     "name": "#%% md\n"
    }
   }
  },
  {
   "cell_type": "code",
   "execution_count": null,
   "source": [
    "t=[1,2,4,5,6]\r\n",
    "print([i**2 for i in t])\r\n",
    "print([i**2 for i in t if i % 2 == 0]) # warunek spowoduje podniesienie do potęgi tylko liczb parzystych\\\r\n",
    "[print(i) for i in t]"
   ],
   "outputs": [],
   "metadata": {
    "collapsed": false,
    "pycharm": {
     "name": "#%%\n"
    }
   }
  },
  {
   "cell_type": "markdown",
   "source": [
    "Ostatnią konstrukcją, która jest zalecana i bardzo przydatna dotyczy słowa kluczowego `or`."
   ],
   "metadata": {
    "collapsed": false,
    "pycharm": {
     "name": "#%% md\n"
    }
   }
  },
  {
   "cell_type": "code",
   "execution_count": null,
   "source": [
    "a=None\r\n",
    "b=1\r\n",
    "c=a or b\r\n",
    "d=2\r\n",
    "e=None\r\n",
    "f=d or e\r\n",
    "print(c)\r\n",
    "print(f)"
   ],
   "outputs": [],
   "metadata": {
    "collapsed": false,
    "pycharm": {
     "name": "#%%\n"
    }
   }
  },
  {
   "cell_type": "markdown",
   "source": [
    "W powyższym przykładzie `or` nie jest logicznym operatorem lecz mechanizmem wyboru wartości innej niż `None` i niepustej. Warto dodać, że powyższa konstrukcja nie używa logiki dwuwartościowej i nie ma związku z niejawnym rzutowaniem typów.\n",
    "\n",
    "## Anotacje\n",
    "\n",
    "Usunięcie jawnej deklaracji typu w momencie tworzenia instancji typu, jednocześnie poprawiło czytelność kodu (osoba analizująca kod bardziej skupia się na algorytmie) z drugiej strony doprowadziła do częstych błędów w trakcie działania programu (_runtime exceptions_). Bez dodatkowych wskazówek edytorom kodu trudno pokazywać podpowiedzi związane z kodem. Język Python umożliwia stosowanie anotacji typów, jednak są to tylko podpowiedzi."
   ],
   "metadata": {
    "collapsed": false
   }
  },
  {
   "cell_type": "code",
   "execution_count": null,
   "source": [
    "a: int = 12\r\n",
    "b: str = a\r\n",
    "print(type(b))"
   ],
   "outputs": [],
   "metadata": {
    "collapsed": false,
    "pycharm": {
     "name": "#%%\n"
    }
   }
  },
  {
   "cell_type": "markdown",
   "source": [
    "W powyższym przykładzie żaden błąd nie został wyświetlony w związku z przypisaniem zmiennej deklarowanej jako `str` (łańcuch znaków) zmiennej typu `int`. Niemniej jednak warto stosować anotacje, gdyż poprawiają one czytelność kodu, w przypadku funkcji mówimy o samodokumentującym się kodzie oraz znacznie poprawia to skuteczność analizowania treści przez edytory kodu jak PyCharm czy Visual Studio Code. Biblioteka `typing` zawiera liczne anotacje łącznie z parametrami jakie można przypisać funkcjom takie jak `Optional`."
   ],
   "metadata": {
    "collapsed": false,
    "pycharm": {
     "name": "#%% md\n"
    }
   }
  },
  {
   "cell_type": "code",
   "execution_count": null,
   "source": [
    "from typing import Dict, List, Callable\r\n",
    "\r\n",
    "a: Dict[str,int] = { 'klucz': 1 } # parametry opisu słownika to kolejno typ klucza i typ wartości\r\n",
    "b: List[int] = [1,2,3,4,5] # jeden parametr dotyczy jedynie typu każdego elementu"
   ],
   "outputs": [],
   "metadata": {
    "collapsed": false,
    "pycharm": {
     "name": "#%%\n"
    }
   }
  },
  {
   "cell_type": "markdown",
   "source": [
    "Parametry przekazywane są przez nawiasy kwadratowe. Anotacje można stosować w argumentach funkcji, ciele funkcji oraz klasach.\n",
    "\n",
    "## Moduły\n",
    "\n",
    "Programy napisane w języku Python mają budowę modułową. Instalacja kompilatora języka zwykle zawiera narzędzie do instalacji modułów `pip`, która instaluje paczki z modułami lokalnie. Listę aktualnych modułów można sprawdzić używając komendy `pip list`. Brak komendy `pip` można naprawić używając poniższego instruktarzu: https://packaging.python.org/tutorials/installing-packages/#id13.\n",
    "\n",
    "Jak zostało to pokrótce przedstawione moduły można importować za pomocą słowa kluczowego `import`. Niemniej jednak jest to niezalecane, gdyż zwykle znamy funkcje i klasy, które chcemy użyć. Z tego powodu lepiej stosować inną konstrukcję `from modul_name import fn1, cls1`. Zamiast listy obiektów do zaimportowania można użyć gwiazdki, ale nie jest to zalecane."
   ],
   "metadata": {
    "collapsed": false,
    "pycharm": {
     "name": "#%% md\n"
    }
   }
  },
  {
   "cell_type": "code",
   "execution_count": null,
   "source": [
    "import typing\r\n",
    "from asyncio import Future"
   ],
   "outputs": [],
   "metadata": {
    "collapsed": false,
    "pycharm": {
     "name": "#%%\n"
    }
   }
  },
  {
   "cell_type": "markdown",
   "source": [
    "Wbudowana funkcja `dir` umożliwia wyświetlenie pełnej listy dostępnych funkcji, jeśli w parametrze przekażemy typ lub w przypadku przekazania nazwy modułu, listę klas."
   ],
   "metadata": {
    "collapsed": false,
    "pycharm": {
     "name": "#%% md\n"
    }
   }
  },
  {
   "cell_type": "code",
   "execution_count": null,
   "source": [
    "import typing\r\n",
    "print(dir(typing))\r\n",
    "from asyncio import Future\r\n",
    "print(dir(Future))"
   ],
   "outputs": [],
   "metadata": {
    "collapsed": false,
    "pycharm": {
     "name": "#%%\n"
    }
   }
  },
  {
   "cell_type": "markdown",
   "source": [
    "Często spotykaną praktyką w dużych projektach jest tworzenie własnych modułów bez ich instalacji w lokalnym repozytorium tzn. bez dostępu do modułów w innych projektach. Każdy folder, który zawiera pusty plik o nazwie \\_\\_init\\_\\_.py jest traktowany jak moduł (nazwa modułu to nazwa folderu). W ten sposób pomijana jest hierarchia folderów, a moduł jest dostępny z każdego miejsca w projekcie niezależnie od położenie modułu w strukturze folderów. Należy jednak pamiętać, że wszystkie pliki _*.py_ muszą znajdować się w jednej przestrzeni roboczej projektu. Pod samym modułem można zaimportować wszystko co znajduje się w pliku \\_\\_init\\_\\_.py, każdy plik, który znajduje się w folderze będzie dostępny za pomocą nazwy: nazwa_folderu.nazwa_pliku.\n",
    "\n",
    "Dostęp do własnych plików z biblioteką funkcji lub typów może odbywać się za pomocą notacji \".\" lub \"..\". Pierwsza informuje środowisko uruchomieniowe Pythona, że chcemy zaimportować plik znajdujący się w tym samym katalogu lub katalogu wyżej."
   ],
   "metadata": {
    "collapsed": false,
    "pycharm": {
     "name": "#%% md\n"
    }
   }
  },
  {
   "cell_type": "code",
   "execution_count": null,
   "source": [
    "from .test import func1\r\n",
    "from ..test import func2"
   ],
   "outputs": [],
   "metadata": {
    "collapsed": false,
    "pycharm": {
     "name": "#%%\n"
    }
   }
  },
  {
   "cell_type": "markdown",
   "source": [
    "Jeśli w pliku \\_\\_init\\_\\_.py znajduje się konstrukcja \\_\\_all__ = \\['bar', 'baz'\\], wszystkie pliki zostaną ukryte, a dostępne moduły muszą zostać wylistowane w liście przekazanej do zmiennej \\_\\_all__.\n",
    "\n",
    "Konstrukcja `from . import nazwy` importuje tylko załadowane pliki w bieżącym folderze korzystając m.in. z \\_\\_all__.\n",
    "\n",
    "## Definiowanie funkcji\n",
    "\n",
    "Podobnie do innych języków programowania funkcje to zbiór instrukcji posiadających wspólną etykietę. Deklarację rozpoczynamy przez dodanie słowa kluczowego `def` i każda deklaracja zakończona jest dwukropkiem, a kolejne linie muszą zawierać wcięcie. Dla klarowności intencji w przykładzie zdefinowano również anotacje.\n"
   ],
   "metadata": {
    "collapsed": false,
    "pycharm": {
     "name": "#%% md\n"
    }
   }
  },
  {
   "cell_type": "code",
   "execution_count": null,
   "source": [
    "def sum(a: int, b: int) -> int:\r\n",
    "    return a+b\r\n",
    "\r\n",
    "print(sum(1,2))"
   ],
   "outputs": [],
   "metadata": {
    "collapsed": false,
    "pycharm": {
     "name": "#%%\n"
    }
   }
  },
  {
   "cell_type": "markdown",
   "source": [
    "Strzałka oznacza deklarowaną wartość jaka zostanie zwracana. Deklaracja może zawierać wartości domyślne i zwracać np. tuple."
   ],
   "metadata": {
    "collapsed": false,
    "pycharm": {
     "name": "#%% md\n"
    }
   }
  },
  {
   "cell_type": "code",
   "execution_count": null,
   "source": [
    "def sum(a: int, b: int, c: int = 1) -> int:\r\n",
    "    return a,b,c # równoznaczne w z return (a,b,c)\r\n",
    "\r\n",
    "print(sum(a,b))\r\n",
    "print(sum(a,b,c=2))"
   ],
   "outputs": [],
   "metadata": {
    "collapsed": false,
    "pycharm": {
     "name": "#%%\n"
    }
   }
  },
  {
   "cell_type": "markdown",
   "source": [
    "Często stosowaną praktyką w języku Python jest deklarowanie jednej funkcji z obsługą różnych typów danych. Wynika to z tego, że nie istnieje deklaracja typu, która jest sprawdzana na poziomie kompilacji jak w językach silnie typowanych jak C++/C#/Java. Z tego też wynika brak przeciążenia funkcji."
   ],
   "metadata": {
    "collapsed": false,
    "pycharm": {
     "name": "#%% md\n"
    }
   }
  },
  {
   "cell_type": "code",
   "execution_count": null,
   "source": [
    "from typing import Optional\r\n",
    "\r\n",
    "def increment(val, increment_by: Optional[int]=1):\r\n",
    "    if isinstance(val, int):\r\n",
    "        return val + increment_by\r\n",
    "    elif isinstance(val, list):\r\n",
    "        return [x + increment_by for x in val]\r\n",
    "\r\n",
    "    raise NotImplemented()\r\n",
    "\r\n",
    "print(increment(1))\r\n",
    "print(increment(1,2)) # tożsame z increment(1,increment_by=2)\r\n",
    "print(increment([1,2]))\r\n",
    "print(increment([1,2],3))"
   ],
   "outputs": [],
   "metadata": {
    "collapsed": false,
    "pycharm": {
     "name": "#%%\n"
    }
   }
  },
  {
   "cell_type": "markdown",
   "source": [
    "W tym miejscu należy podkreślić, że można używać parametrów domyślnych bez słowa kluczowego `Optional`, ale jest to niezalecane. W argumentach stosowanie pojedynczej gwiazdki ma specjalne znaczenie. Są to nieskończone parametry, do których wewnątrz funkcji uzyskuje się dostęp jak do zwykłej listy."
   ],
   "metadata": {
    "collapsed": false,
    "pycharm": {
     "name": "#%% md\n"
    }
   }
  },
  {
   "cell_type": "code",
   "execution_count": null,
   "source": [
    "def complex_ex(a: int, *lst):\r\n",
    "    print(f'a={a}')\r\n",
    "    for p in lst:\r\n",
    "        print(f'p={p}')\r\n",
    "\r\n",
    "print('complex_ex(1,2,3)')\r\n",
    "complex_ex(1,2,3)\r\n",
    "\r\n",
    "print('complex_ex(1,[1,2])')\r\n",
    "complex_ex(1,[1,2]) # jedno jednoelementowy parametr jako lista\r\n",
    "\r\n",
    "print('lst=[3,4,5]')\r\n",
    "print('complex_ex(1, *lst)')\r\n",
    "lst=[3,4,5]\r\n",
    "complex_ex(1, *lst)\r\n",
    "print('lst=[6,7,8]')\r\n",
    "print('complex_ex(*lst)')\r\n",
    "lst=[6,7,8]\r\n",
    "complex_ex(*lst)"
   ],
   "outputs": [],
   "metadata": {
    "collapsed": false,
    "pycharm": {
     "name": "#%%\n"
    }
   }
  },
  {
   "cell_type": "markdown",
   "source": [
    "W powyższym przykładzie `*lst` oznacza rozpakowywanie wartości listy i dopasowanie jej do kolejnych pozycyjnych argumentów funkcji. Jeszcze większe możliwości daje stosowanie podwójnej gwiazdki, która oznacza słownik."
   ],
   "metadata": {
    "collapsed": false,
    "pycharm": {
     "name": "#%% md\n"
    }
   }
  },
  {
   "cell_type": "code",
   "execution_count": null,
   "source": [
    "def print_parameters(zeta, **kwargs):\r\n",
    "    print(f'zeta={zeta}')\r\n",
    "    for key, value in kwargs.items():\r\n",
    "        print(f'{key} = {value}')\r\n",
    "\r\n",
    "print_parameters(1, alpha=1.5, beta=9, gamma=4)\r\n",
    "print_parameters(zeta=1, alpha=1.5, beta=9, gamma=4)"
   ],
   "outputs": [],
   "metadata": {
    "collapsed": false,
    "pycharm": {
     "name": "#%%\n"
    }
   }
  },
  {
   "cell_type": "markdown",
   "source": [
    "Tak jak poprzednio stosując podwójną gwiazdkę możemy rozpakować słownik."
   ],
   "metadata": {
    "collapsed": false,
    "pycharm": {
     "name": "#%% md\n"
    }
   }
  },
  {
   "cell_type": "code",
   "execution_count": null,
   "source": [
    "def print_parameters(zeta, **kwargs):\r\n",
    "    print(f'zeta={zeta}')\r\n",
    "    for key, value in kwargs.items():\r\n",
    "        print(f'{key} = {value}')\r\n",
    "\r\n",
    "print_parameters(1, **{'alpha': 1.5, 'beta': 9, 'gamma': 4})\r\n",
    "dict_arg={'alpha': 1.5, 'beta': 9, 'gamma': 4}\r\n",
    "print_parameters(1, **dict_arg)"
   ],
   "outputs": [],
   "metadata": {
    "collapsed": false,
    "pycharm": {
     "name": "#%%\n"
    }
   }
  },
  {
   "cell_type": "markdown",
   "source": [
    "Zarówno operator gwiazdki jak i podwójnej gwiazdki może pojawiać się jako jedyny argument funkcji."
   ],
   "metadata": {
    "collapsed": false,
    "pycharm": {
     "name": "#%% md\n"
    }
   }
  },
  {
   "cell_type": "code",
   "execution_count": null,
   "source": [
    "def func_1(*args):\r\n",
    "    pass\r\n",
    "\r\n",
    "def func_2(**kwargs):\r\n",
    "    pass\r\n",
    "\r\n",
    "print('No errors')"
   ],
   "outputs": [],
   "metadata": {
    "collapsed": false,
    "pycharm": {
     "name": "#%%\n"
    }
   }
  },
  {
   "cell_type": "markdown",
   "source": [
    "Deklaracja funkcji wiąże się z utworzeniem nowej przestrzeni nazw dla każdej zadeklarowanej zmiennej w funkcji. Sytuacja może się skomplikować w przypadku wielokrotnych zagnieżdżeń."
   ],
   "metadata": {
    "collapsed": false,
    "pycharm": {
     "name": "#%% md\n"
    }
   }
  },
  {
   "cell_type": "code",
   "execution_count": null,
   "source": [
    "def sort_priority2(numbers, group):\r\n",
    "    found = False        # Przestrzeń: 'sort_priority2'\r\n",
    "    def helper(x):\r\n",
    "        if x in group:\r\n",
    "            found = True # Przestrzeń: 'helper' -- źle!\r\n",
    "            return (0, x)\r\n",
    "        return (1, x)\r\n",
    "\r\n",
    "    numbers.sort(key=helper)\r\n",
    "    return found"
   ],
   "outputs": [],
   "metadata": {
    "collapsed": false,
    "pycharm": {
     "name": "#%%\n"
    }
   }
  },
  {
   "cell_type": "markdown",
   "source": [
    "Zmienna `found` zadeklarowana jest dwa razy, w funkcji `sort_priority2` i `helper`. Zmiana wartości następuje dla zmiennej found w `helper`, podczas gdy zmienna `found` w funkcji `sort_priority2` pozostaje niezmieniona. Można na wiele sposobów naprawić powyższy problem. Jednym z nich jest zastosowanie słowa kluczowego `nonlocal`, który informuje środowisko uruchomieniowe, że chcemy używać istniejącej zmiennej."
   ],
   "metadata": {
    "collapsed": false,
    "pycharm": {
     "name": "#%% md\n"
    }
   }
  },
  {
   "cell_type": "code",
   "execution_count": null,
   "source": [
    "def sort_priority2(numbers, group):\r\n",
    "    found = False        # Przestrzeń: 'sort_priority2'\r\n",
    "    def helper(x):\r\n",
    "        nonlocal found # zmiana następuje tutaj\r\n",
    "        if x in group:\r\n",
    "            found = True # Przestrzeń: 'helper' -- źle!\r\n",
    "            return (0, x)\r\n",
    "        return (1, x)\r\n",
    "\r\n",
    "    numbers.sort(key=helper)\r\n",
    "    return found"
   ],
   "outputs": [],
   "metadata": {
    "collapsed": false,
    "pycharm": {
     "name": "#%%\n"
    }
   }
  },
  {
   "cell_type": "markdown",
   "source": [
    "Można również stosować słowo kluczowe `global`, które powoduje utworzenie zmienną dostępną z każdego miejsca w programie. Należy pamiętać jednak, że zmienna ta powoduje obciążenie pamięci przez cały cykl życia programu. W kontekście omawiania funkcji należy wspomnieć o możliwości przekazywania funkcji jako jej argument oraz przypisanie jej do zmiennej."
   ],
   "metadata": {
    "collapsed": false,
    "pycharm": {
     "name": "#%% md\n"
    }
   }
  },
  {
   "cell_type": "code",
   "execution_count": null,
   "source": [
    "def func_arg(fun_1):\r\n",
    "    fun_1()\r\n",
    "\r\n",
    "def func_2():\r\n",
    "    pass\r\n",
    "\r\n",
    "func_arg(func_2)\r\n",
    "\r\n",
    "fn_var=func_2\r\n",
    "func_arg(fn_var)\r\n",
    "\r\n",
    "func_arg(lambda: 1+2) # lambdy również działają\r\n",
    "\r\n",
    "print('Example is working')"
   ],
   "outputs": [],
   "metadata": {
    "collapsed": false,
    "pycharm": {
     "name": "#%%\n"
    }
   }
  },
  {
   "cell_type": "markdown",
   "source": [
    "Ostatnim omawianym elementem będą bardzo praktyczne wyrażenia `lambda`. Są to jednolinijkowe funkcje, których argumenty znajdują się po słowie `lambda`, a kończą się dwukropkiem, po którym zaczyna się właściwa deklaracja funkcji. `lambda` nie posiada żadnej etykiety (nazwy), więc musi być przypisana do zmiennej lub użyta bezpośrednio w wywołaniu innej funkcji, która jako argument przyjmuje funkcję."
   ],
   "metadata": {
    "collapsed": false,
    "pycharm": {
     "name": "#%% md\n"
    }
   }
  },
  {
   "cell_type": "code",
   "execution_count": null,
   "source": [
    "from typing import List, Callable\r\n",
    "\r\n",
    "def func(collection: List[int], callback: Callable[[int],int]):\r\n",
    "    for i in collection:\r\n",
    "        print(callback(i))\r\n",
    "\r\n",
    "func([1,2,3,4], lambda x: x**2)\r\n"
   ],
   "outputs": [],
   "metadata": {
    "collapsed": false,
    "pycharm": {
     "name": "#%%\n"
    }
   }
  },
  {
   "cell_type": "markdown",
   "source": [
    "W powyższym przykładzie użyto anotacji, które są opcjonalne. W wewnętrznych nawiasach klamrowych `Callable` określono typ parametrów, a po przecinku typ zwracany przez funktor (w naszym przypadku wyrażenie `lambda`).\n",
    "\n",
    "## Dokumentacja\n",
    "\n",
    "Dobrą praktyką w inżynierii oprogramowania jest automatyczne dokumentowanie kodu. Stosując odpowiednie znaczniki wewnątrz funkcji bądź klasy istnieje możliwość generowania dokumentacji oraz umożliwić programiście używającemu naszego kodu na wyświetlenie podpowiedzi (_hint_) związanej z wywoływaną funkcją i jej parametrami. Wystarczy użyć trzech podwójnych cudzysłowów i stosować odpowiednią składnię."
   ],
   "metadata": {
    "collapsed": false,
    "pycharm": {
     "name": "#%% md\n"
    }
   }
  },
  {
   "cell_type": "code",
   "execution_count": null,
   "source": [
    "def funct(par1: str) -> str:\r\n",
    "    \"\"\"\r\n",
    "    Function adding exclamation mark at the end of passed string in parameter.\r\n",
    "    :param par1: input string\r\n",
    "    :return: string with additional character \"!\"\r\n",
    "    \"\"\"\r\n",
    "    return par1 + \"!\"\r\n",
    "\r\n",
    "help(funct)"
   ],
   "outputs": [],
   "metadata": {
    "collapsed": false,
    "pycharm": {
     "name": "#%%\n"
    }
   }
  },
  {
   "cell_type": "markdown",
   "source": [
    "W powyższym przykładzie użyto funkcji wbudowanej `help`, której zadaniem jest wyświetlenie informacji o podanej w parametrze klasie, module lub funkcji. Wszystkie najpopularniejsze edytory języka Python wspierają tą funkcjonalność.\n",
    "\n",
    "## Przydatne funkcje, zmienne i techniki\n",
    "\n",
    "### Funkcja `pprint` (_pretty print_)\n",
    "\n",
    "W przypadku, gdy chcemy wyświetlić na ekranie odczytaną lub przetworzoną zawartość pliku, warto skorzystać z tej funkcji. Różni się od standardowej wersji funkcji `print` tym, że posiada poprawione formatowanie swojego rezultatu na ekranie. Przykładowo plik jednolinijkowy json, przy użyciu funkcji zostanie sformatowany do bardziej czytelnej postaci (ze znakami końca linii i wcięciami."
   ],
   "metadata": {
    "collapsed": false,
    "pycharm": {
     "name": "#%% md\n"
    }
   }
  },
  {
   "cell_type": "code",
   "execution_count": null,
   "source": [
    "from pprint import pprint\r\n",
    "\r\n",
    "books = [{'isbn': '9780134854717', 'title': 'Effective Python: 90 Specific Ways to Write Better Python, 2nd Edition'},\r\n",
    "         {'isbn': '9781593279929', 'title': 'Automate the Boring Stuff with Python, 2nd Edition'}]\r\n",
    "\r\n",
    "pprint(books)"
   ],
   "outputs": [],
   "metadata": {
    "collapsed": false,
    "pycharm": {
     "name": "#%%\n"
    }
   }
  },
  {
   "cell_type": "markdown",
   "source": [
    "### Funkcja `input`\n",
    "\n",
    "Częstym zadaniem programu jest uzyskanie od użytkownika potrzebnych danych wejściowych. Funkcja `input` maksymalnie upraszcza to zadanie."
   ],
   "metadata": {
    "collapsed": false,
    "pycharm": {
     "name": "#%% md\n"
    }
   }
  },
  {
   "cell_type": "code",
   "execution_count": null,
   "source": [
    "alpha = input('Enter alpha parameter:')\r\n",
    "print(f'You enter: {alpha}')"
   ],
   "outputs": [],
   "metadata": {
    "collapsed": false,
    "pycharm": {
     "name": "#%%\n"
    }
   }
  },
  {
   "cell_type": "markdown",
   "source": [
    "Co ciekawe funkcja działa również w samym Jupyter Notebooku, umożliwiając wpisanie parametru wejściowego.\n",
    "\n",
    "### Zmienna __name__ (odczytywanie parametrów)\n",
    "\n",
    "Zmienna `__name__` przechowuje nazwę pliku wewnątrz, którego kod jest wykonywany lub stałą wartość `__main__`. W pierwszym przypadku interpreter języka Python rozpoczął swoje działanie od innego pliku początkowego, w drugim sytuacja jest odwrotna. Jest to przydatne, gdy plik z kodem języka Python może zawierać inne zachowanie w przypadku, gdy zostanie uruchomiony jako główny, a inne gdy plik ten jest importowany przez moduł główny -- w takim przypadku plik jest po prostu biblioteką funkcji i klas."
   ],
   "metadata": {
    "collapsed": false,
    "pycharm": {
     "name": "#%% md\n"
    }
   }
  },
  {
   "cell_type": "code",
   "execution_count": null,
   "source": [
    "def main():\r\n",
    "    pass\r\n",
    "\r\n",
    "if __name__ == \"__main__\":\r\n",
    "    main()\r\n",
    "\r\n",
    "print(__name__)"
   ],
   "outputs": [],
   "metadata": {
    "collapsed": false,
    "pycharm": {
     "name": "#%%\n"
    }
   }
  },
  {
   "cell_type": "markdown",
   "source": [
    "### Słowniki\n",
    "\n",
    "Kod programu dość często ulega licznym rozgałęzieniom. Znacznie pogarsza to czytelność kodu i utrudnia pisanie testów jednostkowych (każde rozgałęzienie powinno być przetestowane). Istnieje wiele sposób radzenie sobie z tym problemem np. poprzez stosowanie wzorców projektowych. Jednym z ciekawszych sposób jest zastosowanie słownika. Technika polega na przechowywaniu w kluczu słownika opcji do wyboru, a w wartości wskaźnika do obsługiwanej funkcji."
   ],
   "metadata": {
    "collapsed": false,
    "pycharm": {
     "name": "#%% md\n"
    }
   }
  },
  {
   "cell_type": "code",
   "execution_count": null,
   "source": [
    "def plus(left_operator, right_operator):\r\n",
    "    return left_operator + right_operator\r\n",
    "\r\n",
    "def minus(left_operator, right_operator):\r\n",
    "    return left_operator - right_operator\r\n",
    "\r\n",
    "def multiply(left_operator, right_operator):\r\n",
    "    return left_operator * right_operator\r\n",
    "\r\n",
    "def divide(left_operator, right_operator):\r\n",
    "    return left_operator // right_operator # bez reszty\r\n",
    "\r\n",
    "def make_calc(operation, left_operator, right_operator):\r\n",
    "    if operation == 'plus':\r\n",
    "        return sum(left_operator, right_operator)\r\n",
    "    elif operation == 'minus':\r\n",
    "        return minus(left_operator, right_operator)\r\n",
    "    elif operation == 'multiply':\r\n",
    "        return multiply(left_operator, right_operator)\r\n",
    "    elif operation == 'divide':\r\n",
    "        return divide(left_operator, right_operator)\r\n",
    "    else:\r\n",
    "        raise NotImplemented()"
   ],
   "outputs": [],
   "metadata": {
    "collapsed": false,
    "pycharm": {
     "name": "#%%\n"
    }
   }
  },
  {
   "cell_type": "markdown",
   "source": [
    "Powyższy kod da się łatwo uprościć i poprawić jego czytelność."
   ],
   "metadata": {
    "collapsed": false,
    "pycharm": {
     "name": "#%% md\n"
    }
   }
  },
  {
   "cell_type": "code",
   "execution_count": null,
   "source": [
    "def plus(left_operator, right_operator):\r\n",
    "    return left_operator + right_operator\r\n",
    "\r\n",
    "def minus(left_operator, right_operator):\r\n",
    "    return left_operator - right_operator\r\n",
    "\r\n",
    "def multiply(left_operator, right_operator):\r\n",
    "    return left_operator * right_operator\r\n",
    "\r\n",
    "def divide(left_operator, right_operator):\r\n",
    "    return left_operator // right_operator # bez reszty\r\n",
    "\r\n",
    "operations = {'plus': plus,\r\n",
    "              'minus': minus,\r\n",
    "              'multiply': multiply,\r\n",
    "              'divide': divide}\r\n",
    "\r\n",
    "def make_calc(operation, left_operator, right_operator):\r\n",
    "    if operation not in operations:\r\n",
    "        raise NotImplemented()\r\n",
    "\r\n",
    "    return operations[operation]()"
   ],
   "outputs": [],
   "metadata": {
    "collapsed": false,
    "pycharm": {
     "name": "#%%\n"
    }
   }
  },
  {
   "cell_type": "markdown",
   "source": [
    "### _Walrus_ operator\n",
    "\n",
    "Jedną z nowości wprowadzoną w języku Python 3.7 był _walrus_ operator, który nieodpowiednio użyty może znacznie pogorszyć czytelność kodu, dlatego w społeczności budzi wiele kontrowersji.\n",
    "Załóżmy, że zadanie polega na wyświetleniu każdego elementu list, aż do napotkania liczby -1. Za pomocą omawianego operatora kod może wyglądać następująco."
   ],
   "metadata": {
    "collapsed": false,
    "pycharm": {
     "name": "#%% md\n"
    }
   }
  },
  {
   "cell_type": "code",
   "execution_count": null,
   "source": [
    "lst=[1,2,3,4,5,-1]\r\n",
    "id=0\r\n",
    "\r\n",
    "while (item:=lst[id]) > -1:\r\n",
    "    print(item)\r\n",
    "    id+=1"
   ],
   "outputs": [],
   "metadata": {
    "collapsed": false,
    "pycharm": {
     "name": "#%%\n"
    }
   }
  },
  {
   "cell_type": "markdown",
   "source": [
    "Zmienna `item` przypisany jest dopiero w momencie, gdy spełniony jest warunek. Operator ten również bardzo się przydaje w trakcie pracy z plikami. Bardzo popularnym przykładem jest zastosowanie go w trakcie przetwarzania pliku."
   ],
   "metadata": {
    "collapsed": false,
    "pycharm": {
     "name": "#%% md\n"
    }
   }
  },
  {
   "cell_type": "code",
   "execution_count": null,
   "source": [
    "from io import StringIO\r\n",
    "\r\n",
    "example='1\\n2\\n3\\n4\\n5\\n6'\r\n",
    "\r\n",
    "with StringIO(example) as f:\r\n",
    "    while True:\r\n",
    "        line=f.readline()\r\n",
    "        if not line: # w przypadku EOF line będzie pustym łańcuchem znaków\r\n",
    "            break\r\n",
    "\r\n",
    "        print(line.strip())\r\n",
    "\r\n",
    "with StringIO(example) as f:\r\n",
    "    while (line := f.readline()):\r\n",
    "        print(line.strip())"
   ],
   "outputs": [],
   "metadata": {
    "collapsed": false,
    "pycharm": {
     "name": "#%%\n"
    }
   }
  },
  {
   "cell_type": "markdown",
   "source": [
    "Klasa `StringIO` tworzy strumień typu _memory stream_. Zawiera te same funkcje, co wynik funkcji `open` z tą różnicą, że działa w pamięci nie tworząc żadnych uchwytów do plików.\n",
    "\n",
    "Operator ten ma również zastosowanie wszędzie tam, gdzie należy wyliczyć zmienną przed wykonaniem logicznego warunku.\n",
    "\n",
    "### Logowanie błędów\n",
    "\n",
    "Jednym z wyznaczników jakości napisanego kodu jest obsługa błędów i to jak są logowane. Nie sposób uniknąć wszystkich błędów, gdyż niektóre zależą od użytkownika końcowego i wielu czynników, które nie sposób przewidzieć. Czytelne logowanie błędów ma szczególne znaczenie w dużych projektach, gdzie za naprawę problemów odpowiada pierwsza i druga linia wsparcia, nie sami programiści. Najgorszą kategorią błędów, których nie da się zasymulować. Logi błędów są wtedy jedynym źródłem informacji o problemie.\n",
    "\n",
    "W języku Python domyślnie stosowanych jest 5 poziomów logowania, `critical`, `error`, `warning`, `info`, `debug`. Pierwszy i drugi służy do logowania błędów, trzeci do wyświetlenia powiadomień, że w systemie występują jakieś anomalie, czwarty poziom to istotne informacje z punktu widzenia działu wsparcia oraz piąty, logi głównie dla programisty. W standardowej aplikacji najmniej powinno być błędów, najwięcej wpisów z logów programisty. Biblioteka standardowa języka Python umożliwia automatyczne filtrowanie zapisu danych w zależności od parametrów zewnętrznych, co daje możliwość użycie tego samego kodu zarówno na komputerze programisty jak i środowisku produkcyjnym. Moduł `logging` w języku Python zawiera wszystkie potrzebne funkcje i typy.\n",
    "\n",
    "1. `Logger` to klasa zawierająca wszystkie potrzebne funkcje potrzebne do obsługi logów w kodzie. \n",
    "\n",
    "2. `Handlers` zestaw klas, które zapisują kolekcje logów przechowywanych w pamięci np. na dysk.\n",
    "\n",
    "3. `Filters` zestaw metod, które umożliwiają przetwarzanie tylko konkretnego poziomu logów na wyjściu.\n",
    "\n",
    "4. `Formatters` jest to klasa, która umożliwia spersonalizowanie szablonu zapisu logów np. format daty.\n"
   ],
   "metadata": {
    "collapsed": false,
    "pycharm": {
     "name": "#%% md\n"
    }
   }
  },
  {
   "cell_type": "code",
   "execution_count": null,
   "source": [
    "from logging import Logger, DEBUG, StreamHandler\r\n",
    "\r\n",
    "logger=Logger(__name__, DEBUG) # drugi parametr zawiera informacje jakie logi system powinien przechowywać\r\n",
    "\r\n",
    "logger.addHandler(StreamHandler()) # zapis na konsolę\r\n",
    "\r\n",
    "logger.debug('Debug')\r\n",
    "logger.warning('Warning')\r\n",
    "logger.error('Error')"
   ],
   "outputs": [],
   "metadata": {
    "collapsed": false,
    "pycharm": {
     "name": "#%%\n"
    }
   }
  },
  {
   "cell_type": "markdown",
   "source": [
    "W powyższym przykładzie użyto konsoli jako mechanizmu zapisu logów. Więcej informacji można znaleźć pod adresem:\n",
    "https://docs.python.org/3.8/library/logging.handlers.html\n",
    "\n",
    "Istotnym elementem modułu jest łatwa możliwość sterowania pojedynczymi instancjami klasy `logger` różnych modułów oraz centralizacja ustawień wszystkich instancji klasy `logger`."
   ],
   "metadata": {
    "collapsed": false,
    "pycharm": {
     "name": "#%% md\n"
    }
   }
  },
  {
   "cell_type": "code",
   "execution_count": null,
   "source": [
    "from logging import getLogger, basicConfig, DEBUG\r\n",
    "\r\n",
    "module_logger = getLogger('application_name.module_or_file')\r\n",
    "\r\n",
    "basicConfig(level=DEBUG, format='%(relativeCreated)6d %(threadName)s %(message)s')"
   ],
   "outputs": [],
   "metadata": {
    "collapsed": false,
    "pycharm": {
     "name": "#%%\n"
    }
   }
  },
  {
   "cell_type": "markdown",
   "source": [
    "Linia druga pozwala pobrać instancję klasy `logger` i trzecia ustawić parametry wszystkim instancjom. Temat logowania wykracza poza ramy tych zajęć. Więcej informacji można znaleźć pod adresem: https://docs.python.org/3.8/howto/logging-cookbook.html.\r\n",
    "\r\n",
    "## Bibliografia\r\n",
    "\r\n",
    "https://docs.python.org/3.8/library/pprint.html\r\n",
    "Brett Slatkin, _Effective Python: 90 Specific Ways to Write Better Python, 2nd Edition_, Addison-Wesley Professional, ISBN: 9780134854717\r\n",
    "Advanced Python 3 Programming Techniques, Addison-Wesley Professional, ISBN: 9780321635518\r\n",
    "\r\n",
    "## Zadania do wykonania\r\n",
    "\r\n",
    "### Zadanie 1\r\n",
    "\r\n",
    "Prześledź szybkość dodawania elementów do tablicy."
   ],
   "metadata": {
    "collapsed": false,
    "pycharm": {
     "name": "#%% md\n"
    }
   }
  },
  {
   "cell_type": "code",
   "execution_count": null,
   "source": [
    "from datetime import datetime\r\n",
    "tab = []\r\n",
    "dtn = datetime.now().timestamp()\r\n",
    "for i in range(100000):\r\n",
    "    tab.append(i)\r\n",
    "dte = datetime.now().timestamp()\r\n",
    "print(dte - dtn, 's')"
   ],
   "outputs": [],
   "metadata": {}
  },
  {
   "cell_type": "markdown",
   "source": [
    "### Zadanie 2\r\n",
    "\r\n",
    "Stwórz kalkulator do obliczenia aktualnej godziny w konkretnej strefie czasowej. Do zadania wystarczy utworzyć słownik z przesunięciami czasowymi z i od _UTC_."
   ],
   "metadata": {}
  },
  {
   "cell_type": "code",
   "execution_count": null,
   "source": [
    "from datetime import timedelta\r\n",
    "from datetime import datetime\r\n",
    "timezones = {}\r\n",
    "for hour in range(0, 24):\r\n",
    "    dtn = datetime.now() + timedelta(hours=hour)\r\n",
    "    timezones[hour] = dtn.strftime('%Y-%m-%d %H:%M:%S')\r\n",
    "    print(timezones[hour] + ' +' + str(hour) + ':00')"
   ],
   "outputs": [],
   "metadata": {}
  },
  {
   "cell_type": "markdown",
   "source": [
    "### Zadanie 3\r\n",
    "\r\n",
    "Zmodyfikuj kod związany z losowaniem liczb z przedziału od 1 do 10, tak aby obliczał przybliżoną wartość oczekiwaną obliczoną jako średnią (z prób). Uśrednienie ma nastąpić 1m razy (milion razy)."
   ],
   "metadata": {}
  },
  {
   "cell_type": "code",
   "execution_count": null,
   "source": [
    "from random import Random\r\n",
    "\r\n",
    "rand = Random()\r\n",
    "randsrom = 0\r\n",
    "num = pow(10, 6)\r\n",
    "for i in range(num):\r\n",
    "    randsrom += rand.randint(1, 10)\r\n",
    "print(float(randsrom) / num)"
   ],
   "outputs": [],
   "metadata": {}
  },
  {
   "cell_type": "markdown",
   "source": [
    "### Zadanie 4\r\n",
    "\r\n",
    "Napisz algorytm obliczający kolejne liczby pierwsze dla zadanych wartości."
   ],
   "metadata": {}
  },
  {
   "cell_type": "code",
   "execution_count": null,
   "source": [
    "lowestPrime = 1\r\n",
    "upperPrime = 20\r\n",
    "\r\n",
    "for num in range(lowestPrime, upperPrime + 1):\r\n",
    "    if num > 1:\r\n",
    "        for j in range(2, num):\r\n",
    "            if(num % j) == 0:\r\n",
    "                break\r\n",
    "        else:\r\n",
    "            print(f'{num}')"
   ],
   "outputs": [],
   "metadata": {}
  },
  {
   "cell_type": "markdown",
   "source": [
    "### Zadanie 5\r\n",
    "\r\n",
    "Napisz program wyznaczający ciąg _Fibonacciego_ dla 93 elementu (lub 93 iteracji) w najszybszym możliwym czasie."
   ],
   "metadata": {}
  },
  {
   "cell_type": "code",
   "execution_count": null,
   "source": [
    "f=0                                         #pierwszy element\r\n",
    "s=1                                         #drugi element\r\n",
    "print(f,s,end=\" \")\r\n",
    "for x in range(2,93):\r\n",
    "    next=f+s                           \r\n",
    "    print(next,end=\" \")\r\n",
    "    f=s\r\n",
    "    s=next"
   ],
   "outputs": [],
   "metadata": {}
  },
  {
   "cell_type": "markdown",
   "source": [
    "### Zadanie 6\r\n",
    "\r\n",
    "Napisz program, który wyznacza odległość Levenshteina dla dwóch zadanych łańcuchów znaków."
   ],
   "metadata": {}
  },
  {
   "cell_type": "code",
   "execution_count": null,
   "source": [
    "def levenshteinDistance(word1, word2):\r\n",
    "    rows = len(word1)+1\r\n",
    "    cols = len(word2)+1\r\n",
    "    distance = [[0 for x in range(cols)] for x in range(rows)]\r\n",
    "\r\n",
    "    for w1 in range(1, rows):\r\n",
    "        distance[w1][0] = w1\r\n",
    "    for w2 in range(1, cols):\r\n",
    "        distance[0][w2] = w2\r\n",
    "\r\n",
    "    for c in range(1, cols):\r\n",
    "        for r in range(1, rows):\r\n",
    "            if word1[r-1] == word2[c-1]:\r\n",
    "                cost = 0\r\n",
    "            else:\r\n",
    "                cost = 1\r\n",
    "            distance[r][c] = min(distance[r-1][c] + 1,\r\n",
    "                                distance[r][c-1] + 1,\r\n",
    "                                distance[r-1][c-1] + cost)\r\n",
    "    \r\n",
    "    # Możliwość wyświetlenia tabeli różnic dwóch wyrazów\r\n",
    "    # for r in range(rows):\r\n",
    "    #     print(distance[r])\r\n",
    "\r\n",
    "    return distance[r][c]\r\n",
    "\r\n",
    "print(levenshteinDistance(\"popopopop\", \"wowowoowowoow\"))"
   ],
   "outputs": [],
   "metadata": {}
  }
 ],
 "metadata": {
  "kernelspec": {
   "name": "python3",
   "display_name": "Python 3.9.6 64-bit"
  },
  "language_info": {
   "name": "python",
   "version": "3.9.6",
   "mimetype": "text/x-python",
   "codemirror_mode": {
    "name": "ipython",
    "version": 3
   },
   "pygments_lexer": "ipython3",
   "nbconvert_exporter": "python",
   "file_extension": ".py"
  },
  "interpreter": {
   "hash": "ac59ebe37160ed0dfa835113d9b8498d9f09ceb179beaac4002f036b9467c963"
  }
 },
 "nbformat": 4,
 "nbformat_minor": 2
}