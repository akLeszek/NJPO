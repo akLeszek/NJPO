{
 "cells": [
  {
   "cell_type": "markdown",
   "source": [
    "## Kolekcje w języku Python ##\n",
    "\n",
    "W laboratorium zostaną opisane wybrane typy kolekcji, najczęściej używane w praktyce oraz funkcje i klasy działające na tych kolekcjach. W poprzednim laboratorium zostały przekazane podstawowe informacje o listach, tuplach i zbiorach. W tym rozdziale główny nacisk został położony na moduł standardowy `collections`.\n",
    "\n",
    "### Klasa `ChainMap`\n",
    "\n",
    "Klasa umożliwia efektywne łączenie wielu słowników w jednej strukturze. Nie wykonuje fizycznego łączenia, a scalanie odbywa się na poziomie mapowania konkretnych kluczy w słownikach. W przypadku, gdy słowniki nie są rozłączne parami (zawierają te same klucze), priorytet ma słownik przekazany jako pierwszy."
   ],
   "metadata": {
    "collapsed": false,
    "pycharm": {
     "name": "#%% md\n"
    }
   }
  },
  {
   "cell_type": "code",
   "execution_count": 1,
   "source": [
    "from collections import ChainMap\r\n",
    "\r\n",
    "def_params = { 'p1': 'v1', 'p2': 'v2' }\r\n",
    "params_from_file = { 'p2': 'v2', 'p3': 'v3' }\r\n",
    "\r\n",
    "params = ChainMap(def_params, params_from_file)\r\n",
    "\r\n",
    "print(params['p1'])\r\n",
    "print(params['p2'])\r\n",
    "print(params['p3'])\r\n"
   ],
   "outputs": [
    {
     "output_type": "stream",
     "name": "stdout",
     "text": [
      "v1\n",
      "v2\n",
      "v3\n"
     ]
    }
   ],
   "metadata": {
    "collapsed": false,
    "pycharm": {
     "name": "#%%\n"
    }
   }
  },
  {
   "cell_type": "markdown",
   "source": [
    "Dodatkowo do istniejącej kolekcji słowników można dodawać kolejne, za pomocą funkcji `new_child`.\n",
    "\n",
    "### Klasa `Counter`\n",
    "\n",
    "Bardzo przydatna klasa do zliczania wystąpień elementów kolekcji. W konstruktorze należy przekazać instancje kolekcji na, której wykonywane będą obliczenia."
   ],
   "metadata": {
    "collapsed": false,
    "pycharm": {
     "name": "#%% md\n"
    }
   }
  },
  {
   "cell_type": "code",
   "execution_count": 4,
   "source": [
    "from collections import Counter\r\n",
    "\r\n",
    "lst=[1,1,2,2,3,3,3,3]\r\n",
    "\r\n",
    "counter = Counter(lst)\r\n",
    "\r\n",
    "print(counter.most_common()) # najczęściej występujące elementy\r\n",
    "\r\n",
    "counter = Counter('Ala ma kota') # łańcuch znaków jest typu iterable\r\n",
    "\r\n",
    "print(counter.most_common(3)) # trzy najczęściej występujące\r\n",
    "\r\n",
    "counter = Counter('Ala ma kota'.split())\r\n",
    "\r\n",
    "print(counter.most_common())"
   ],
   "outputs": [
    {
     "output_type": "stream",
     "name": "stdout",
     "text": [
      "[(3, 4), (1, 2), (2, 2)]\n",
      "[('a', 3), (' ', 2), ('A', 1)]\n",
      "[('Ala', 1), ('ma', 1), ('kota', 1)]\n"
     ]
    }
   ],
   "metadata": {
    "collapsed": false,
    "pycharm": {
     "name": "#%%\n"
    }
   }
  },
  {
   "cell_type": "markdown",
   "source": [
    "Dodatkowo klasa `counter` zawiera wiele przedefiniowanych operatorów dwuargumentowych np. `+`, `-`, `*`, `/`, co umożliwia wykonywanie operacji na oryginalnych kolekcjach, dodawania, odejmowania, mnożenia i dzielenia odpowiadającym elementom obu kolekcji.\n",
    "\n",
    "### Klasa `OrderedDict`\n",
    "\n",
    "Kolekcja przechowuje kolejność dodawania kolejnych kluczy. Klasa ta zawiera zbiór wszystkich funkcji słownika, a wywołanie funkcji `popitem`, spowoduje zwrócenie i usunięcie ostatnio dodanego elementu."
   ],
   "metadata": {
    "collapsed": false
   }
  },
  {
   "cell_type": "code",
   "execution_count": 23,
   "source": [
    "from collections import OrderedDict\r\n",
    "\r\n",
    "lst = [1, 2, 3, 3, 2, 1, 1, 1, 2, 2, 3, 1, 2, 1, 1]\r\n",
    "sorted = Counter(lst).most_common()\r\n",
    "print(sorted)\r\n",
    "od = OrderedDict(sorted)\r\n",
    "print(od.popitem(False)) # parametr last typu bool, niewystępujący w dict\r\n",
    "\r\n",
    "d = dict(sorted)\r\n",
    "print(d.popitem())"
   ],
   "outputs": [
    {
     "output_type": "stream",
     "name": "stdout",
     "text": [
      "[(1, 7), (2, 5), (3, 3)]\n",
      "(1, 7)\n",
      "(3, 3)\n"
     ]
    }
   ],
   "metadata": {
    "collapsed": false,
    "pycharm": {
     "name": "#%%\n"
    }
   }
  },
  {
   "cell_type": "markdown",
   "source": [
    "## Przydatne klasy i funkcje\n",
    "\n",
    "### Funkcja `zip`\n",
    "\n",
    "Funkcja umożliwia łączenie kolekcji i iterowanie po wyniku. Każda iteracja złączonych kolekcji przechowywana jest jako tupla."
   ],
   "metadata": {
    "collapsed": false
   }
  },
  {
   "cell_type": "code",
   "execution_count": 26,
   "source": [
    "users = ['Lukasz Strak', 'Jan Kowalski']\r\n",
    "ids = [1,2]\r\n",
    "\r\n",
    "for user, id in zip(users, ids):\r\n",
    "    print(f'{user} {id:4}') # :4 oznacza pad left do 4 znaków (wyrównanie do prawej przy użyciu spacji)"
   ],
   "outputs": [
    {
     "output_type": "stream",
     "name": "stdout",
     "text": [
      "Lukasz Strak    1\n",
      "Jan Kowalski    2\n"
     ]
    }
   ],
   "metadata": {
    "collapsed": false,
    "pycharm": {
     "name": "#%%\n"
    }
   }
  },
  {
   "cell_type": "markdown",
   "source": [
    "### Funkcja `enumarate`\n",
    "\n",
    "Iterując po kolekcji niejednokrotnie przydatne jest posiadanie aktualnego numeru iteracji. Można w tym celu użyć funkcji `enumerate`, która zwraca listę tupli, która pod indeksem zero zawiera numer elementu, a w kolejnym sam element."
   ],
   "metadata": {
    "collapsed": false
   }
  },
  {
   "cell_type": "code",
   "execution_count": 27,
   "source": [
    "lst = [1, 2, 3, 3, 2, 1, 1, 1, 2, 2, 3, 1, 2, 1, 1]\r\n",
    "for i, elem in enumerate(lst):\r\n",
    "    print(i, elem)\r\n"
   ],
   "outputs": [
    {
     "output_type": "stream",
     "name": "stdout",
     "text": [
      "0 1\n",
      "1 2\n",
      "2 3\n",
      "3 3\n",
      "4 2\n",
      "5 1\n",
      "6 1\n",
      "7 1\n",
      "8 2\n",
      "9 2\n",
      "10 3\n",
      "11 1\n",
      "12 2\n",
      "13 1\n",
      "14 1\n"
     ]
    }
   ],
   "metadata": {
    "collapsed": false,
    "pycharm": {
     "name": "#%%\n"
    }
   }
  },
  {
   "cell_type": "markdown",
   "source": [
    "Przy użyciu funkcji `enumarate` łatwo rzutować listę na słownik."
   ],
   "metadata": {
    "collapsed": false,
    "pycharm": {
     "name": "#%% md\n"
    }
   }
  },
  {
   "cell_type": "code",
   "execution_count": 28,
   "source": [
    "lst = [1, 2, 3, 3, 2, 1, 1, 1, 2, 2, 3, 1, 2, 1, 1]\r\n",
    "d = dict(enumerate(lst))\r\n",
    "print(d)"
   ],
   "outputs": [
    {
     "output_type": "stream",
     "name": "stdout",
     "text": [
      "{0: 1, 1: 2, 2: 3, 3: 3, 4: 2, 5: 1, 6: 1, 7: 1, 8: 2, 9: 2, 10: 3, 11: 1, 12: 2, 13: 1, 14: 1}\n"
     ]
    }
   ],
   "metadata": {
    "collapsed": false,
    "pycharm": {
     "name": "#%%\n"
    }
   }
  },
  {
   "cell_type": "markdown",
   "source": [
    "### Funkcja `sorted`\n",
    "\n",
    "Sortowanie listy typów wbudowanych jest prostym zadaniem. Wystarczy użyć funkcji wbudowanej `sorted`. Do funkcji łatwo przekazać wyrażenie _lambda_, które umożliwia określenie elementu, który będzie użyty do sortowania."
   ],
   "metadata": {
    "collapsed": false,
    "pycharm": {
     "name": "#%% md\n"
    }
   }
  },
  {
   "cell_type": "code",
   "execution_count": 2,
   "source": [
    "sorted([5, 2, 3, 1, 4])\r\n",
    "[5, 2, 3, 1, 4].sort() # adekwatny zapis przy użyciu funkcji sort\r\n",
    "\r\n",
    "d = {'tomato': 1, 'apple': 3, 'lemon': 8, 'orange': 5, 'grape': 2}\r\n",
    "\r\n",
    "# sortowanie słownika na podstawie klucza\r\n",
    "\r\n",
    "print(sorted(d.items(), key=lambda x: x[0]))\r\n",
    "\r\n",
    "# sortowanie słownika na podstawie wartości\r\n",
    "\r\n",
    "print(sorted(d.items(), key=lambda x: x[1]))\r\n",
    "\r\n",
    "# sortowanie słownika na podstawie długości klucza\r\n",
    "\r\n",
    "print(sorted(d.items(), key=lambda x: len(x[0])))"
   ],
   "outputs": [
    {
     "output_type": "stream",
     "name": "stdout",
     "text": [
      "[('apple', 3), ('grape', 2), ('lemon', 8), ('orange', 5), ('tomato', 1)]\n",
      "[('tomato', 1), ('grape', 2), ('apple', 3), ('orange', 5), ('lemon', 8)]\n",
      "[('apple', 3), ('lemon', 8), ('grape', 2), ('tomato', 1), ('orange', 5)]\n"
     ]
    }
   ],
   "metadata": {
    "collapsed": false,
    "pycharm": {
     "name": "#%%\n"
    }
   }
  },
  {
   "cell_type": "markdown",
   "source": [
    "Funkcję `sorted` można użyć wraz z klasą `OrderedDict`."
   ],
   "metadata": {
    "collapsed": false,
    "pycharm": {
     "name": "#%% md\n"
    }
   }
  },
  {
   "cell_type": "code",
   "execution_count": 8,
   "source": [
    "from collections import OrderedDict\r\n",
    "\r\n",
    "d = {'tomato': 1, 'apple': 3, 'lemon': 8, 'orange': 5, 'grape': 2}\r\n",
    "\r\n",
    "od = OrderedDict(sorted(d.items(), key=lambda x: x[1]))\r\n",
    "\r\n",
    "for i, (key, val) in enumerate(od.items()):\r\n",
    "    print(f'{i+1}|{key:8}|{val}')\r\n",
    "\r\n",
    "print(f'The longest word: {od.popitem(False)}')"
   ],
   "outputs": [
    {
     "output_type": "stream",
     "name": "stdout",
     "text": [
      "1|tomato  |1\n",
      "2|grape   |2\n",
      "3|apple   |3\n",
      "4|orange  |5\n",
      "5|lemon   |8\n",
      "The longest word: ('tomato', 1)\n"
     ]
    }
   ],
   "metadata": {
    "collapsed": false,
    "pycharm": {
     "name": "#%%\n"
    }
   }
  },
  {
   "cell_type": "markdown",
   "source": [
    "### Klasa `Shelve`\n",
    "\n",
    "Jeśli chcemy zachować dane, najczęściej stosowaną techniką jest implementacja własnej funkcji `load` i `save`, działającej na kolekcji. Można również użyć klasy wbudowanej `Shelve`, której bazuje na słowniku."
   ],
   "metadata": {
    "collapsed": false,
    "pycharm": {
     "name": "#%% md\n"
    }
   }
  },
  {
   "cell_type": "code",
   "execution_count": 13,
   "source": [
    "import shelve\r\n",
    "\r\n",
    "with shelve.open('defaults.db') as shelf:\r\n",
    "    shelf['file_name'] = 2\r\n",
    "\r\n",
    "with shelve.open('defaults.db') as shelf:\r\n",
    "    print(shelf['file_name'])"
   ],
   "outputs": [
    {
     "output_type": "stream",
     "name": "stdout",
     "text": [
      "2\n"
     ]
    }
   ],
   "metadata": {
    "collapsed": false,
    "pycharm": {
     "name": "#%%\n"
    }
   }
  },
  {
   "cell_type": "markdown",
   "source": [
    "Dodając identyfikator do słownika można tworzyć proste kolekcje, które w łatwy sposób można serializować do pliku."
   ],
   "metadata": {
    "collapsed": false,
    "pycharm": {
     "name": "#%% md\n"
    }
   }
  },
  {
   "cell_type": "code",
   "execution_count": 11,
   "source": [
    "import shelve\r\n",
    "\r\n",
    "users = [{ 'first_name': 'Lukasz', 'last_name': 'Strak' }, # można użyć tupli\r\n",
    "         { 'first_name': 'Jan', 'last_name': 'Kowalski' }]\r\n",
    "\r\n",
    "with shelve.open('users.db') as shelf:\r\n",
    "    for id, user in enumerate(users):\r\n",
    "        shelf[str(id)] = user\r\n",
    "\r\n",
    "with shelve.open('users.db') as shelf:\r\n",
    "    print(shelf['0'])"
   ],
   "outputs": [
    {
     "output_type": "stream",
     "name": "stdout",
     "text": [
      "{'first_name': 'Lukasz', 'last_name': 'Strak'}\n"
     ]
    }
   ],
   "metadata": {
    "collapsed": false,
    "pycharm": {
     "name": "#%%\n"
    }
   }
  },
  {
   "cell_type": "markdown",
   "source": [
    "### Funkcja `filter`\n",
    "\n",
    "Filtrowanie danych w języku Python jest możliwe m.in. dzięki bardzo pomocnej funkcji `filter`. W pierwszym argumencie należy przekazać wyrażenie _lambda_ lub wskaźnik na funkcję, która wywołana zostanie dla każdego elementu kolekcji podanej w drugim parametrze. Zwracany wynik jest _lazy_ czyli jego ewaluacja następuje w momencie użycia np. w pętli `for` lub po rzutowaniu na listę."
   ],
   "metadata": {
    "collapsed": false,
    "pycharm": {
     "name": "#%% md\n"
    }
   }
  },
  {
   "cell_type": "code",
   "execution_count": 16,
   "source": [
    "lst = [1, 2, 3, 3, 2, 1, 1, 1, 2, 2, 3, 1, 2, 1, 1]\r\n",
    "\r\n",
    "print(list(filter(lambda x: x % 2 ,lst)))\r\n",
    "\r\n",
    "print(list(filter(lambda x: x > 2 ,lst)))\r\n",
    "\r\n",
    "for x in filter(lambda x: x < 2, lst):\r\n",
    "    print(x)"
   ],
   "outputs": [
    {
     "output_type": "stream",
     "name": "stdout",
     "text": [
      "[1, 3, 3, 1, 1, 1, 3, 1, 1, 1]\n",
      "[3, 3, 3]\n",
      "1\n",
      "1\n",
      "1\n",
      "1\n",
      "1\n",
      "1\n",
      "1\n"
     ]
    }
   ],
   "metadata": {
    "collapsed": false,
    "pycharm": {
     "name": "#%%\n"
    }
   }
  },
  {
   "cell_type": "markdown",
   "source": [
    "### Funkcja `map`\n",
    "\n",
    "Konwersja każdego elementu kolekcji na inny typ jest częstym zadaniem programisty. Funkcja `map` ułatwia to zadanie. Jego sygnatura jest identyczna jak w przypadku `filter`."
   ],
   "metadata": {
    "collapsed": false,
    "pycharm": {
     "name": "#%% md\n"
    }
   }
  },
  {
   "cell_type": "code",
   "execution_count": 18,
   "source": [
    "users = [{ 'first_name': 'Lukasz', 'last_name': 'Strak' }, # można użyć tupli\r\n",
    "         { 'first_name': 'Jan', 'last_name': 'Kowalski' }]\r\n",
    "\r\n",
    "names = map(lambda x: x['first_name'], users)\r\n",
    "print(list(names))"
   ],
   "outputs": [
    {
     "output_type": "stream",
     "name": "stdout",
     "text": [
      "['Lukasz', 'Jan']\n"
     ]
    }
   ],
   "metadata": {
    "collapsed": false,
    "pycharm": {
     "name": "#%%\n"
    }
   }
  },
  {
   "cell_type": "markdown",
   "source": [
    "### Funkcja `reduce`\n",
    "\n",
    "Funkcja `reduce` powoduje zwrócenie jednej wartości obliczonej na podstawie kolekcji elementów."
   ],
   "metadata": {
    "collapsed": false,
    "pycharm": {
     "name": "#%% md\n"
    }
   }
  },
  {
   "cell_type": "code",
   "execution_count": 19,
   "source": [
    "from functools import reduce\r\n",
    "\r\n",
    "lst = [1, 2, 3, 3, 2, 1, 1, 1, 2, 2, 3, 1, 2, 1, 1]\r\n",
    "\r\n",
    "sum_all = reduce(lambda x, y: x+y, lst)\r\n",
    "\r\n",
    "print(sum_all)\r\n",
    "print(sum(lst))"
   ],
   "outputs": [
    {
     "output_type": "stream",
     "name": "stdout",
     "text": [
      "26\n",
      "26\n"
     ]
    }
   ],
   "metadata": {
    "collapsed": false,
    "pycharm": {
     "name": "#%%\n"
    }
   }
  },
  {
   "cell_type": "markdown",
   "source": [
    "W pierwszej iteracji za `x` i `y` zostaną podstawione wartości 1, 2. W następnej iteracji za `x` i `y` zostaną podstawione wartości 3 (wynik poprzedniego działania) oraz 3. Jeszcze w następnej 6 (wynik działania (1+2)+3) i 3.\n",
    "\n",
    "### Funkcja `deque`\n",
    "\n",
    "Jedną z podstawowych struktur danych jest kolejka (_queueu_). Funkcja `deque` umożliwia przekształcenie listy w kolejkę (_FIFO_). Dodatkowo konstruktor posiada bardzo przydatny parametr `max` za pomocą, którego można stworzyć _cache_. Kolekcja zawiera również wiele przydatnych funkcji m.in. `count` zliczającej liczbę wystąpień wartości w kolejce oraz `pop` / `popleft` zwracające ostatni / pierwszy element z kolejki, usuwając go."
   ],
   "metadata": {
    "collapsed": false,
    "pycharm": {
     "name": "#%% md\n"
    }
   }
  },
  {
   "cell_type": "code",
   "execution_count": 22,
   "source": [
    "from collections import deque\r\n",
    "\r\n",
    "deq = deque(maxlen=5)\r\n",
    "\r\n",
    "for i in range(10):\r\n",
    "    deq.append(i)\r\n",
    "    print(deq)\r\n",
    "\r\n",
    "print(deq.count(\"1\"))\r\n",
    "\r\n",
    "print(deq.pop())\r\n",
    "print(deq.popleft())"
   ],
   "outputs": [
    {
     "output_type": "stream",
     "name": "stdout",
     "text": [
      "deque([0], maxlen=5)\n",
      "deque([0, 1], maxlen=5)\n",
      "deque([0, 1, 2], maxlen=5)\n",
      "deque([0, 1, 2, 3], maxlen=5)\n",
      "deque([0, 1, 2, 3, 4], maxlen=5)\n",
      "deque([1, 2, 3, 4, 5], maxlen=5)\n",
      "deque([2, 3, 4, 5, 6], maxlen=5)\n",
      "deque([3, 4, 5, 6, 7], maxlen=5)\n",
      "deque([4, 5, 6, 7, 8], maxlen=5)\n",
      "deque([5, 6, 7, 8, 9], maxlen=5)\n",
      "0\n",
      "9\n",
      "5\n"
     ]
    }
   ],
   "metadata": {
    "collapsed": false,
    "pycharm": {
     "name": "#%%\n"
    }
   }
  },
  {
   "cell_type": "markdown",
   "source": [
    "## Funkcja `defaultdict`\n",
    "\n",
    "Niejednokrotnie może się zdarzyć, że słownik zawiera złożone kolekcje. Funkcja `defaultdict` tworzy typ, który zaraz po stworzeniu klucza będzie zawierał zainicjowany typ przechowywanej wartości."
   ],
   "metadata": {
    "collapsed": false,
    "pycharm": {
     "name": "#%% md\n"
    }
   }
  },
  {
   "cell_type": "code",
   "execution_count": 23,
   "source": [
    "from collections import defaultdict\r\n",
    "\r\n",
    "transactions = { '123': { 'account_id': 1, 'value': 1 },\r\n",
    "                 '124': { 'account_id': 2, 'value': 2 },\r\n",
    "                 '125': { 'account_id': 1, 'value': 5 },\r\n",
    "                 '126': { 'account_id': 1, 'value': 5 }}\r\n",
    "\r\n",
    "history = defaultdict(list)\r\n",
    "\r\n",
    "for trans_id, trans_param in transactions.items():\r\n",
    "    history[trans_param['account_id']].append(trans_param['value'])\r\n",
    "\r\n",
    "print(history.items())"
   ],
   "outputs": [
    {
     "output_type": "stream",
     "name": "stdout",
     "text": [
      "dict_items([(1, [1, 5, 5]), (2, [2])])\n"
     ]
    }
   ],
   "metadata": {
    "collapsed": false,
    "pycharm": {
     "name": "#%%\n"
    }
   }
  },
  {
   "cell_type": "markdown",
   "source": [
    "### Funkcja `namedtuple`\n",
    "\n",
    "Największą wadą tupli jest konieczność znajomości ścisłej kolejności elementów jakie przechowuje (podobnie jak elementy listy). Dotyczy to zarówno odczytywania ich poprzez rozpakowanie oraz poprzez nawiasy kwadratowe z indeksem. Funkcja `namedtuple` to fabryka, która tworzy prostą strukturę (typ danych języka Python). Tworzenie instancji odbywa się poprzez wywołanie na otrzymanym typie konstruktora, w którym musimy podać wartości każdego z pól. Dodatkowo funkcja ta jest wspierana przez edytory języka Python i pozwala na korzystanie z podopowiadania nazw. Największą wadą jest to, że po stworzeniu instancji nie ma możliwości zmiany jakiejkolwiek wartości (tuple z definicji są niezmienne _immutable_). Istnieje możliwość obejścia problemu przy użyciu funkcji `_replace`, jednak tworzona jest wtedy nowa instancja."
   ],
   "metadata": {
    "collapsed": false,
    "pycharm": {
     "name": "#%% md\n"
    }
   }
  },
  {
   "cell_type": "code",
   "execution_count": 24,
   "source": [
    "from collections import namedtuple\r\n",
    "\r\n",
    "User = namedtuple('User', ['first_name', 'last_name'])\r\n",
    "\r\n",
    "user_col = [User('Lukasz', 'Strąk'), User(first_name='Jan', last_name='Kowalski')]\r\n",
    "print(user_col)\r\n",
    "for user in user_col:\r\n",
    "    print(f'{user.first_name} - {user.last_name}')"
   ],
   "outputs": [
    {
     "output_type": "stream",
     "name": "stdout",
     "text": [
      "[User(first_name='Lukasz', last_name='Strąk'), User(first_name='Jan', last_name='Kowalski')]\n"
     ]
    }
   ],
   "metadata": {
    "collapsed": false,
    "pycharm": {
     "name": "#%%\n"
    }
   }
  },
  {
   "cell_type": "markdown",
   "source": [
    "Funkcja umożliwia przekazywanie opcjonalnych pól oraz wartości domyślnych. Służy do tego parametr `defaults`, który zawiera listę domyślnych wartości dla nieprzekazanych pól (w odwrotnej kolejności)."
   ],
   "metadata": {
    "collapsed": false,
    "pycharm": {
     "name": "#%% md\n"
    }
   }
  },
  {
   "cell_type": "code",
   "execution_count": 26,
   "source": [
    "User = namedtuple('User', ['first_name', 'last_name', 'credit_card'], defaults=[False])\r\n",
    "\r\n",
    "user_col = [User('Lukasz', 'Strąk', True), User(first_name='Jan', last_name='Kowalski')]\r\n",
    "\r\n",
    "print(user_col)"
   ],
   "outputs": [
    {
     "output_type": "stream",
     "name": "stdout",
     "text": [
      "[User(first_name='Lukasz', last_name='Strąk', credit_card=True), User(first_name='Jan', last_name='Kowalski', credit_card=False)]\n"
     ]
    }
   ],
   "metadata": {
    "collapsed": false,
    "pycharm": {
     "name": "#%%\n"
    }
   }
  },
  {
   "cell_type": "markdown",
   "source": [
    "##Bibliografia\r\n",
    "\r\n",
    "- https://docs.python.org/3.8/library/shelve.html\r\n",
    "- https://medium.com/@vmsp/less-known-bits-of-the-python-standard-library-46dc88490115\r\n",
    "- https://stackabuse.com/introduction-to-pythons-collections-module\r\n",
    "- https://docs.python.org/3.8/library/collections.html\r\n",
    "- https://towardsdatascience.com/five-cool-python-looping-tips-14f6f44bcfc7\r\n",
    "\r\n",
    "## Zadania do wykonania\r\n",
    "\r\n",
    "### Zadanie 1\r\n",
    "\r\n",
    "Liczbę $\\pi$ można obliczyć stosując metodę Monte Carlo. Polega ona na wielokrotnym obliczeniu nierówności:\r\n",
    "$ x^2 + y^2 \\leq 1$. Należy wylosować punkt $x', y' \\in [0,1]$ i jeśli spełnia on nierówność należy dodać go do sumy punktów spełniających nierówność. Następnie otrzymaną sumę należy pomnożyć przez cztery i podzielić przez liczbę wszystkich prób. Wyznacz dokładność zależną od liczby prób.\r\n",
    "\r\n",
    "Podpowiedź: do losowania można użyć funkcji `random.uniform`."
   ],
   "metadata": {
    "collapsed": false,
    "pycharm": {
     "name": "#%% md\n"
    }
   }
  },
  {
   "cell_type": "code",
   "execution_count": null,
   "source": [
    "import random\r\n",
    "\r\n",
    "number_of_try = 1000\r\n",
    "sum_of_prod = 0\r\n",
    "\r\n",
    "for x in range(number_of_try):\r\n",
    "    prime_a = random.uniform(0,1)\r\n",
    "    prime_b = random.uniform(0,1)\r\n",
    "\r\n",
    "    temp = (prime_a**2) + (prime_b**2)\r\n",
    "    if temp <= 1:\r\n",
    "        sum_of_prod += 1\r\n",
    "\r\n",
    "pi = sum_of_prod * 4 / number_of_try\r\n",
    "\r\n",
    "print(pi)"
   ],
   "outputs": [],
   "metadata": {}
  },
  {
   "cell_type": "markdown",
   "source": [
    "### Zadanie 2\r\n",
    "\r\n",
    "Dla $k$ kolejek zaimplementuj karuzelowy algorytm przydziału zadań. Przykładowo dla trzech kolejek:\r\n",
    "1. `ABC`\r\n",
    "2. `DE`\r\n",
    "3. `F`\r\n",
    "\r\n",
    "Zostaną obsłużone zadania wg. kolejności: `ADFBEC`."
   ],
   "metadata": {}
  },
  {
   "cell_type": "code",
   "execution_count": null,
   "source": [
    "round_robin = []\r\n",
    "\r\n",
    "def add_new_round(round):\r\n",
    "    round_robin.append(round)\r\n",
    "\r\n",
    "def robin_algo():\r\n",
    "    try:\r\n",
    "        for i in range(find_max_list(round_robin)):\r\n",
    "            for x in range(len(round_robin)):\r\n",
    "                print(round_robin[x][i])\r\n",
    "    except IndexError:\r\n",
    "        pass\r\n",
    "\r\n",
    "def find_max_list(list):\r\n",
    "    list_len = [len(i) for i in list]\r\n",
    "    return max(list_len)\r\n",
    "\r\n",
    "add_new_round(['A', 'B', 'C'])\r\n",
    "add_new_round(['D', 'E'])\r\n",
    "add_new_round(['F'])\r\n",
    "\r\n",
    "robin_algo()"
   ],
   "outputs": [],
   "metadata": {}
  },
  {
   "cell_type": "markdown",
   "source": [
    "### Zadanie 3\r\n",
    "\r\n",
    "Stwórz kolekcję książek zawierającą takie pola jak `tytuł`, `gatunek`, `autor`, `isbn`. Napisz trzy funkcje, (i) zapisującą kolekcję, (ii) odczytującą kolekcję, (iii) obliczająca statystykę wg. gatunku i autora."
   ],
   "metadata": {}
  },
  {
   "cell_type": "code",
   "execution_count": null,
   "source": [
    "import pandas as pd\r\n",
    "import random\r\n",
    "import shelve\r\n",
    "from collections import Counter\r\n",
    "\r\n",
    "url = 'https://gist.githubusercontent.com/jaidevd/23aef12e9bf56c618c41/raw/c05e98672b8d52fa0cb94aad80f75eb78342e5d4/books.csv'\r\n",
    "df = pd.read_csv(url, encoding='utf-8')\r\n",
    "\r\n",
    "def save_book_coll(book_coll_name):\r\n",
    "    book_coll_temp = []\r\n",
    "    for index, row in df.iterrows():\r\n",
    "        dict = {}\r\n",
    "        dict['title'] = str(row['Title'])\r\n",
    "        dict['genre'] = str(row['Genre'])\r\n",
    "        dict['author'] = str(row['Author'])\r\n",
    "        dict['isbn'] = random.randrange(0000000000000, 9999999999999)\r\n",
    "        book_coll_temp.append(dict)\r\n",
    "    with shelve.open(book_coll_name) as shelf:\r\n",
    "        for id, row in enumerate(book_coll_temp):\r\n",
    "            shelf[str(id)] = row\r\n",
    "            \r\n",
    "def read_book_coll(book_coll_name):\r\n",
    "    with shelve.open(book_coll_name) as shelf:\r\n",
    "        for id, book in shelf.items():\r\n",
    "            print(id, book)\r\n",
    "\r\n",
    "def book_statistic(book_coll_name, stat_by):\r\n",
    "    book_coll_temp = []\r\n",
    "    with shelve.open(book_coll_name) as shelf:\r\n",
    "        for id, book in shelf.items():\r\n",
    "            book_coll_temp.append(book)\r\n",
    "        stats = map(lambda x: x[stat_by], book_coll_temp)\r\n",
    "        print(Counter(stats).most_common())\r\n",
    "\r\n",
    "# save_book_coll(\"gitbooks.db\")\r\n",
    "# read_book_coll(\"gitbooks.db\")\r\n",
    "# book_statistic(\"gitbooks.db\", \"genre\")\r\n",
    "# book_statistic(\"gitbooks.db\", \"author\")"
   ],
   "outputs": [],
   "metadata": {}
  },
  {
   "cell_type": "markdown",
   "source": [
    "### Zadanie 4\r\n",
    "\r\n",
    "Za pomocą `namedtuple` i innych poznanych kolekcji zaimplementuj algorytm tworzący drzewo binarne."
   ],
   "metadata": {}
  },
  {
   "cell_type": "code",
   "execution_count": null,
   "source": [
    "import collections\r\n",
    "\r\n",
    "Node = collections.namedtuple('Node', ['left', 'right', 'value'])\r\n",
    "\r\n",
    "def contains(root, value):\r\n",
    "    if root.value == value:\r\n",
    "        return True\r\n",
    "    elif root.value < value:\r\n",
    "        if root.right == None:\r\n",
    "            return False\r\n",
    "        else:\r\n",
    "            return contains(root.right,value)\r\n",
    "    else:\r\n",
    "        if root.left == None:\r\n",
    "            return False\r\n",
    "        else:\r\n",
    "            return contains(root.left,value)\r\n",
    "\r\n",
    "\r\n",
    "\r\n",
    "n4 = Node(value=4, left=None, right=None)\r\n",
    "n0 = Node(value=0, left=None, right=None)\r\n",
    "n1 = Node(value=1, left=n0, right=None)\r\n",
    "n3 = Node(value=3, left=None, right=n4)\r\n",
    "n2 = Node(value=2, left=n1, right=n3)\r\n",
    "\r\n",
    "print(contains(n2, 4))"
   ],
   "outputs": [],
   "metadata": {}
  }
 ],
 "metadata": {
  "kernelspec": {
   "display_name": "Python 3",
   "language": "python",
   "name": "python3"
  },
  "language_info": {
   "codemirror_mode": {
    "name": "ipython",
    "version": 2
   },
   "file_extension": ".py",
   "mimetype": "text/x-python",
   "name": "python",
   "nbconvert_exporter": "python",
   "pygments_lexer": "ipython2",
   "version": "2.7.6"
  }
 },
 "nbformat": 4,
 "nbformat_minor": 2
}