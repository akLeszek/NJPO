{
 "cells": [
  {
   "cell_type": "markdown",
   "source": [
    "# Przydatne techniki\n",
    "\n",
    "W tym laboratorium główny nacisk zostanie położony na obsługę wejścia/wyjścia, obsługa popularnych formatów w języku Python (_Excel_/_JSON_/_Parquet_) oraz operacje związane przeglądanie plików i katalogów w systemie plików. Język Python jest niezależny od systemu operacyjnego, który definiuje w jaki sposób fizycznie obsługiwane są pliki. Wiele wysiłku włożono w utworzenie warstwy abstrakcji, która pośredniczy w wywoływaniu funkcji systemowych. Z tego też powodu łączenie katalogu i kolejnych podkatalogów wymaga użycia odpowiedniej funkcji, nie zwykłej konkatenacji łańcuchów znaków zawierających kolejne katalogi. Dodatkowo zostaną przedstawione tematy pokrewne, jak obsługa plikowej bazy danych `sqlite` (transakcyjnej i spełniającej zasady _ACID_) przy użyciu _ORM_ (Object-relational mapping), do czego zostanie użyty moduł `SqlAlchemy` oraz serializacja, deserializacja obiektów przy użyciu modułu `pickle`.\n",
    "\n",
    "## System plików\n",
    "\n",
    "Pierwszym przykładem użycia Pythona do obsługi systemu plików będzie rekurencyjne wyświetlenie listy plików. Do tego celu można użyć bardzo przydatnej funkcji `os.walk`, która wyświetla wszystkie pliki i podkatalogi w katalogu podanym w parametrze. Wszystkie nazwy przekazane z funkcji nie zawierają pełnej ścieżki, a jedynie jej relatywną część. W wielu przypadkach potrzebna jest absolutna ścieżka do bieżącego katalogu. Do jej pobrania można użyć wbudowanej funkcji `os.getcwd()` (akronim od _get current working directory_)."
   ],
   "metadata": {
    "collapsed": true,
    "pycharm": {
     "name": "#%% md\n"
    }
   }
  },
  {
   "cell_type": "code",
   "execution_count": null,
   "source": [
    "from os import getcwd, walk\r\n",
    "from os.path import join\r\n",
    "\r\n",
    "def get_files(folder):\r\n",
    "    for folderName, sub_folders, files_names in walk(folder):\r\n",
    "        for file_name in files_names:\r\n",
    "            print(join(folderName, file_name))\r\n",
    "        for sub_folder in sub_folders:\r\n",
    "            get_files(join(folder, sub_folder))\r\n",
    "\r\n",
    "get_files(getcwd())"
   ],
   "outputs": [],
   "metadata": {
    "collapsed": false,
    "pycharm": {
     "name": "#%%\n"
    }
   }
  },
  {
   "cell_type": "markdown",
   "source": [
    "W linii 6 została użyta funkcja `join` modułu `os.path`. Służy do konkatenacji wielu folderów, które składają się na pełną ścieżkę.\n",
    "\n",
    "Poniższa lista zawiera zestaw funkcji przydatnych do obsługi plików i katalogów na poziomie systemy plików.\n",
    "\n",
    "| Nazwa funkcji | Opis | Przykład użycia |\n",
    "|-|-|-|\n",
    "| `shutil.copy` | Funkcja umożliwia kopiowanie pojedynczych plików. | `shutil.copy(full_path_src, full_path_dest)` |\n",
    "| `shutil.copytree` | Funkcja umożliwia kopiowanie całych katalogów wraz z zawartością. | `shutil.copytree(path_src, path_dest)` |\n",
    "| `shutil.move` | Funkcja umożliwia zmianę nazwy pliku oraz przenoszenie pliku do innego katalogu. | `shutil.move(path_src, path_dest)` |\n",
    "| `shutil.rmtree` | Funkcja umożliwia kasowanie katalogu wraz z zawartością. | `shutil.rmtree(path)` |\n",
    "| `os.unlink` | Funkcja umożliwia kasowanie pliku. | `shutil.unlink(path)` |\n",
    "| `os.path.splitext` | Zwraca tuple na, którą składa się nazwa pliku oraz jego rozszerzenie. W przypadku, gdy podany plik zawiera pełną ścieżkę, zostanie ona zwrócona jako część nazwy pliku. | `file_name, ext = os.path.splitext(file_name)` |\n",
    "\n",
    "\n",
    "Tworzenie bezpiecznych plików tymczasowych jest bardzo przydatne szczególnie w testach jednostkowych. W języku Python dostępny jest moduł `tempfile`, który znacznie ułatwia tworzenie tego typu plików. Funkcje `mkdtemp` i `mktemp` służą kolejno do tworzenia tymczasowego katalogu i pliku."
   ],
   "metadata": {
    "collapsed": false,
    "pycharm": {
     "name": "#%% md\n"
    }
   }
  },
  {
   "cell_type": "code",
   "execution_count": null,
   "source": [
    "from tempfile import mkdtemp\r\n",
    "from shutil import rmtree\r\n",
    "from os.path import join\r\n",
    "temp_dir = mkdtemp()\r\n",
    "try:\r\n",
    "    print(f'Saving file to: {temp_dir}')\r\n",
    "    with open(join(temp_dir, 'file.txt'), 'w+') as f:\r\n",
    "        f.write('Test')\r\n",
    "        f.flush()\r\n",
    "finally:\r\n",
    "    rmtree(temp_dir)\r\n",
    "\r\n",
    "print('Success')"
   ],
   "outputs": [],
   "metadata": {
    "collapsed": false,
    "pycharm": {
     "name": "#%%\n"
    }
   }
  },
  {
   "cell_type": "markdown",
   "source": [
    "W powyższym kodzie to programista jest odpowiedzialny za zwalnianie pliku/katalogu tymczasowego. Moduł `tempfile` umożliwia tworzenie plików, które w momencie opuszczenia bloku kodu, zostaną zwolnione automatycznie."
   ],
   "metadata": {
    "collapsed": false,
    "pycharm": {
     "name": "#%% md\n"
    }
   }
  },
  {
   "cell_type": "code",
   "execution_count": null,
   "source": [
    "from tempfile import NamedTemporaryFile\r\n",
    "from os.path import exists\r\n",
    "\r\n",
    "file_name = None\r\n",
    "with NamedTemporaryFile('w+') as f:\r\n",
    "    f.write('test')\r\n",
    "    file_name = f.name\r\n",
    "    print(f'Fle {file_name} exists: {exists(file_name)}')\r\n",
    "\r\n",
    "print(f'Fle {file_name} exists: {exists(file_name)}')"
   ],
   "outputs": [],
   "metadata": {
    "collapsed": false,
    "pycharm": {
     "name": "#%%\n"
    }
   }
  },
  {
   "cell_type": "markdown",
   "source": [
    "Dość istotny jest tutaj fakt, że gdy plik zostanie zamknięty funkcją `f.close()`, zostanie skasowany. W przypadku katalogu można użyć klasy `tempfile.TemporaryDirectory`, której schemat użycia jest taki sam.\n",
    "\n",
    "## Obsługa formatów plików\n",
    "\n",
    "### Format `Xlsx`\n",
    "\n",
    "Moduł `openpyxl` pozwala na obsługę formatu plików `xlsx`. Z tego samego modułu korzysta również bardzo popularny moduł `pandas`, który umożliwia unifikację przetwarzania danych bez względu na format źródłowy. Moduł `openpyxl` nie znajduje się na liście modułów standardowych i należy go doinstalować za pomocą polecenia `pip install openpyxl`."
   ],
   "metadata": {
    "collapsed": false,
    "pycharm": {
     "name": "#%% md\n"
    }
   }
  },
  {
   "cell_type": "code",
   "execution_count": null,
   "source": [
    "from openpyxl import Workbook, load_workbook\r\n",
    "from typing import Dict\r\n",
    "from tempfile import mktemp\r\n",
    "from itertools import product\r\n",
    "from os import unlink\r\n",
    "\r\n",
    "def describe(file_name, sheet_name):\r\n",
    "    wb = load_workbook(file_name)\r\n",
    "    print(f'Sheets: {wb.sheetnames}')\r\n",
    "    print(f'Filled rows: {wb[sheet_name].max_row}')\r\n",
    "    print(f'Filled columns: {wb[sheet_name].max_column}')\r\n",
    "    for cell in product(['A', 'B'], ['1', '2', '3']):\r\n",
    "        cell_s = \"\".join(cell)\r\n",
    "        print(f'Cell: {cell_s}: {wb[sheet_name][cell_s].value}')\r\n",
    "    # można też użyć\r\n",
    "    # for coll_obj in list(wb[sheet_name].columns)[0]:\r\n",
    "    #     print(f'Cell: {coll_obj.value}')\r\n",
    "    # lub\r\n",
    "    # wb[sheet_name].cell(row=1, column=1).value\r\n",
    "\r\n",
    "def create(data: Dict[str, int], file_name, sheet_name):\r\n",
    "    wb = Workbook()\r\n",
    "    sheet = wb.create_sheet(sheet_name)\r\n",
    "    for cell_key, cell_value in data.items():\r\n",
    "        sheet[cell_key] = cell_value\r\n",
    "    wb.save(file_name)\r\n",
    "\r\n",
    "file_name = mktemp(suffix='.xlsx')\r\n",
    "\r\n",
    "print(f'Using file: {file_name}')\r\n",
    "\r\n",
    "try:\r\n",
    "    data = { 'A1': 10, 'A2': 20, 'A3': 30, 'B1': 11, 'B2': 12, 'B3': 13 }\r\n",
    "    create(data, file_name, 'test')\r\n",
    "    describe(file_name, 'test')\r\n",
    "\r\n",
    "finally:\r\n",
    "    unlink(file_name)"
   ],
   "outputs": [],
   "metadata": {
    "collapsed": false,
    "pycharm": {
     "name": "#%%\n"
    }
   }
  },
  {
   "cell_type": "markdown",
   "source": [
    "Przypisując odpowiedniej komórce formułę w postaci łańcucha znaków tj. `sheet['A4'] = '=SUM(A1:A3)'` tworzymy formułę wyliczaną automatycznie. W module `openpyxl.utils` można znaleźć między innymi dwie funkcje konwertujące liczby na litery i odwrotnie, co ułatwia iterowanie między komórkami."
   ],
   "metadata": {
    "collapsed": false,
    "pycharm": {
     "name": "#%% md\n"
    }
   }
  },
  {
   "cell_type": "code",
   "execution_count": null,
   "source": [
    "from openpyxl.utils import get_column_letter, column_index_from_string\r\n",
    "\r\n",
    "print('Letters:')\r\n",
    "print(\",\".join([get_column_letter(i) for i in range(1, 100)]))\r\n",
    "print(column_index_from_string('A'))\r\n",
    "print(column_index_from_string('AB'))\r\n",
    "print(column_index_from_string('ABC'))"
   ],
   "outputs": [],
   "metadata": {
    "collapsed": false,
    "pycharm": {
     "name": "#%%\n"
    }
   }
  },
  {
   "cell_type": "markdown",
   "source": [
    "### Format _JSON_\n",
    "\n",
    "Wczytywanie i zapisywanie formatu _JSON_ polega głównie na operowaniu na słownikach. Funkcja `loads` zwraca słownik na podstawie przekazanego łańcucha znaków w formacie _JSON_. Z kolei funkcja `dumps` zapisuje słownik w tym formacie. Można również użyć funkcji `load` i `dump`, która oczekuje strumienia do pliku zapisanego w formacie _JSON_ (otwarcie strumienia następuje w funkcji `open`)."
   ],
   "metadata": {
    "collapsed": false,
    "pycharm": {
     "name": "#%% md\n"
    }
   }
  },
  {
   "cell_type": "code",
   "execution_count": null,
   "source": [
    "from json import loads, dumps\r\n",
    "\r\n",
    "json_dict = loads('{ \"file_name\": \"test\", \"is_zipped\": false }')\r\n",
    "print(f'File name: {json_dict[\"file_name\"]}')\r\n",
    "print(f'Is zipped: {json_dict[\"is_zipped\"]}')\r\n",
    "print(f'Dumped: {dumps(json_dict)}')"
   ],
   "outputs": [],
   "metadata": {
    "collapsed": false,
    "pycharm": {
     "name": "#%%\n"
    }
   }
  },
  {
   "cell_type": "markdown",
   "source": [
    "Warto w tym miejscu należy zwrócić uwagę na konwersję typów. Wartość typu `bool` w formacie _JSON_ została skonwertowana na odpowiednik w języku Python.\n",
    "\n",
    "### Format _Parquet_\n",
    "\n",
    "Format `Parquet` jest używany m. in. w _Apache Spark_ (_PySpark_) czy module `pandas` i jest jednym z podstawowych formatów w ekosystemie firmy _Apache_. Pod względem struktury jest to format binarny, kolumnowy z silnym typowaniem danych. W bibliotece standardowej nie ma obsługi tego formatu, jednak znajduje się wiele implementacji w `pip`. Przykłady utylizują bibliotekę `fastparquet`, a do tworzenia bibliotekę `pandas`."
   ],
   "metadata": {
    "collapsed": false,
    "pycharm": {
     "name": "#%% md\n"
    }
   }
  },
  {
   "cell_type": "code",
   "execution_count": null,
   "source": [
    "import pandas as pd\r\n",
    "from tempfile import mktemp\r\n",
    "from os import unlink\r\n",
    "from fastparquet import ParquetFile\r\n",
    "\r\n",
    "data = { 'A': list(range(1,5)), 'B': list(range(6,10)) }\r\n",
    "\r\n",
    "print(f'Using data: {data}')\r\n",
    "\r\n",
    "df = pd.DataFrame.from_dict(data)\r\n",
    "\r\n",
    "temp_file = mktemp()\r\n",
    "\r\n",
    "try:\r\n",
    "    df.to_parquet(temp_file, compression='GZIP')\r\n",
    "    pf = ParquetFile(temp_file)\r\n",
    "    print(f'Readed columns: {pf.columns}')\r\n",
    "    print(f'File info: {pf.info}')\r\n",
    "    df = pf.to_pandas()\r\n",
    "    for value_a, value_b in df.itertuples(index=False):\r\n",
    "        print(f'Values: {value_a}, {value_b}')\r\n",
    "\r\n",
    "finally:\r\n",
    "    unlink(temp_file)"
   ],
   "outputs": [],
   "metadata": {
    "collapsed": false,
    "pycharm": {
     "name": "#%%\n"
    }
   }
  },
  {
   "cell_type": "markdown",
   "source": [
    "Format `Parquet` jest szczególnie przydatny, gdy przetwarzamy duże zbiory danych i wynik należy zapisać, gdyż kolejny krok przetwarzania może zmodyfikować aktualnie przeprocesowane dane (_check point_).\n",
    "\n",
    "## Baza danych _sqlite_ i podstawy `SqlAlchemy`\n",
    "\n",
    "Mapowanie bazy danych na klasy jest bardzo przydatne w większych projektach. Głównie za sprawą podpowiadania składni oraz teoretycznej niezależności działania programu od warstwy przechowywania danych (baza danych). Biblioteka `SqlAlchemy` stanowi warstwę pośrednią miedzy fizycznymi operacjami na konkretnej bazie danych oraz logicznych operacji jak odczytywanie czy modyfikowanie danych. Co więcej, model danych to klasa w języku Python, co pozwala przy użyciu jednej funkcji założenie całej bazy danych z indeksami, tabelami i sekwencjami. Baza danych _sqlite_ jest wspierana w języku Python poprzez moduł `sqlite3` znajdujący się w bibliotece standardowej. Poniższy listing przedstawia prosty model danych wraz z przykładowym użyciem biblioteki `SqlAlchemy`."
   ],
   "metadata": {
    "collapsed": false,
    "pycharm": {
     "name": "#%% md\n"
    }
   }
  },
  {
   "cell_type": "code",
   "execution_count": null,
   "source": [
    "from sqlalchemy import create_engine, Column, String, Integer, Boolean\r\n",
    "from sqlalchemy.orm import sessionmaker\r\n",
    "from sqlalchemy.ext.declarative import declarative_base\r\n",
    "from contextlib import contextmanager\r\n",
    "from tempfile import mktemp\r\n",
    "from platform import system\r\n",
    "\r\n",
    "temp_db = mktemp(suffix='.sqlite')\r\n",
    "\r\n",
    "print(f'Using {temp_db}')\r\n",
    "\r\n",
    "conn_uri_handler = {\r\n",
    "    'Windows': f'sqlite:///{temp_db}',\r\n",
    "    'Darwin': f'sqlite:////{temp_db}',\r\n",
    "    'Linux': f'sqlite:////{temp_db}',\r\n",
    "    'Java': f'sqlite:////{temp_db}'\r\n",
    "}\r\n",
    "\r\n",
    "# w Windows dodaje dodatkowo /\r\n",
    "engine = create_engine(conn_uri_handler[system()])\r\n",
    "\r\n",
    "Base = declarative_base(bind=engine)\r\n",
    "\r\n",
    "class Product(Base):\r\n",
    "    __tablename__ = 'products'\r\n",
    "    id=Column(Integer, primary_key=True)\r\n",
    "    title=Column('title', String(32))\r\n",
    "    in_stock=Column('in_stock', Boolean)\r\n",
    "    quantity=Column('quantity', Integer)\r\n",
    "\r\n",
    "\r\n",
    "Base.metadata.create_all()\r\n",
    "\r\n",
    "Session = sessionmaker(bind=engine)\r\n",
    "\r\n",
    "@contextmanager\r\n",
    "def create_session():\r\n",
    "    session = Session()\r\n",
    "    try:\r\n",
    "        yield session\r\n",
    "        session.commit()\r\n",
    "    except Exception:\r\n",
    "        session.rollback()\r\n",
    "        raise\r\n",
    "    finally:\r\n",
    "        session.close()\r\n",
    "\r\n",
    "def provide_session(func):\r\n",
    "    def wrapper(*args, **kwargs):\r\n",
    "        print(f'Calling {func.__name__}')\r\n",
    "        try:\r\n",
    "            with create_session() as session:\r\n",
    "                args = (*args, session) if args else (session,) # dodanie parametru session do listy\r\n",
    "                return func(*args, **kwargs)\r\n",
    "        except Exception as e:\r\n",
    "            print(f'Error found: {e}')\r\n",
    "\r\n",
    "        return None\r\n",
    "\r\n",
    "    return wrapper\r\n",
    "\r\n",
    "@provide_session\r\n",
    "def populatate(session):\r\n",
    "    session.add(Product(id=1, title='Laptop Sony', in_stock=True, quantity=10))\r\n",
    "    session.add(Product(id=2, title='Laptop Lenovo', in_stock=True, quantity=1))\r\n",
    "    session.add(Product(id=3, title='Laptop Lenovo', in_stock=False, quantity=0))\r\n",
    "\r\n",
    "\r\n",
    "@provide_session\r\n",
    "def query(session):\r\n",
    "    available_products = session.query(Product).filter(Product.in_stock == True).all()\r\n",
    "    print('Available products')\r\n",
    "    for product in available_products:\r\n",
    "        print(f'{product.id}\\t{product.title}\\t{product.quantity}')\r\n",
    "\r\n",
    "    available_products = session.query(Product).filter(Product.in_stock == False).all()\r\n",
    "    print('Not available products')\r\n",
    "    for product in available_products:\r\n",
    "        print(f'{product.id}\\t{product.title}\\t{product.quantity}')\r\n",
    "\r\n",
    "\r\n",
    "populatate()\r\n",
    "query()"
   ],
   "outputs": [],
   "metadata": {
    "collapsed": false,
    "pycharm": {
     "name": "#%%\n"
    }
   }
  },
  {
   "cell_type": "markdown",
   "source": [
    "W zależności od tego co zostanie przekazane do funkcji `create_engine`, `SqlAlchemy` utworzy takie połączenie do bazy danych i skonwertuje typy języka Python na odpowiadające im typy w konkretnej bazie danych. Użyta tabela jest raczej trywialna, `SqlAlchemy` daje znacznie więcej możliwości np. tworzenia relacji (jeden do jeden, jeden do wielu, wiele do wielu), ograniczeń (_constraint_), wywoływania funkcji wbudowanych oraz tworzenia własnych definicji funkcji i typów, które zostaną przetransformowane do konkretnego dialektu (składnia danego języka zapytań obsługiwanego w bazie danych np. `t-sql` - _Microsoft SQL Server, 'pl/sql' - Oracle). W powyższym przykładzie, w funkcji `create_session` tworzona jest sesja do bazy danych. Użyty mechanizm pozwala na automatyczny `commit` i zwalnianie połączenia i przekazywanie go do puli otwartych połączeń. Dekorator `provide_session` dodaje parametr `session` do dekorowanej funkcji. Powyższy kod nie jest przeznaczony dla wielu wątków.\n",
    "\n",
    "## Serializacja i deserializacja z modułem `pickle`\n",
    "\n",
    "Moduł `pickle` umożliwia zapisywanie na dysk istniejących w pamięci instancji typów, które po ponownym uruchomieniu programu mogą być odczytywane z dysku. Nie każdy typ jest obsługiwany, ale kolekcje takie jak lista, słownik czy nazwana tupla są obsługiwane. Rozszerzeniem modułu `pickle` są moduły `dill` i `cpickle`, które obsługują większą liczbę typów."
   ],
   "metadata": {
    "collapsed": false,
    "pycharm": {
     "name": "#%% md\n"
    }
   }
  },
  {
   "cell_type": "code",
   "execution_count": null,
   "source": [
    "from pickle import dump, load\r\n",
    "from tempfile import mktemp\r\n",
    "from os import unlink\r\n",
    "\r\n",
    "temp_file = mktemp()\r\n",
    "\r\n",
    "try:\r\n",
    "    collection = ['A', 'B', 1, 2, True, False]\r\n",
    "    print(f'Before: {collection}')\r\n",
    "    with open(temp_file, 'wb') as f:\r\n",
    "        dump(collection, f)\r\n",
    "        f.flush()\r\n",
    "\r\n",
    "    with open(temp_file, 'rb') as f:\r\n",
    "        temp_col = load(f)\r\n",
    "        print(f'After: {temp_col}')\r\n",
    "finally:\r\n",
    "    unlink(temp_file)\r\n"
   ],
   "outputs": [],
   "metadata": {
    "collapsed": false,
    "pycharm": {
     "name": "#%%\n"
    }
   }
  },
  {
   "cell_type": "markdown",
   "source": [
    "## Pamięć podręczna i moduł _functools_\n",
    "\n",
    "Twórcy języka Python wbudowali w moduły standardowe dekoratory, które umożliwiają tworzenie pamięci podręcznej (_cache_).\n",
    "Dostępnych jest parę metod, niemniej jednak schemat użycia jest bardzo podobny."
   ],
   "metadata": {
    "collapsed": false,
    "pycharm": {
     "name": "#%% md\n"
    }
   }
  },
  {
   "cell_type": "code",
   "execution_count": null,
   "source": [
    "from functools import lru_cache, cached_property\r\n",
    "\r\n",
    "\r\n",
    "@lru_cache(maxsize=100)\r\n",
    "def func_lru_cached(a: int, b: int):\r\n",
    "    return a + b\r\n",
    "\r\n",
    "glob_a, glob_b = 10,10\r\n",
    "\r\n",
    "@cached_property\r\n",
    "def sum_ab():\r\n",
    "    return glob_a + glob_b\r\n",
    "\r\n",
    "print(sum_ab)\r\n",
    "print(func_lru_cached(glob_a, glob_b))"
   ],
   "outputs": [],
   "metadata": {
    "collapsed": false,
    "pycharm": {
     "name": "#%%\n"
    }
   }
  },
  {
   "cell_type": "markdown",
   "source": [
    "_lru_ oznacza _Least Recently Used_, co oznacza, że wywołania z parametrami rzadko używanymi będą usuwane z pamięci podręcznej w momencie kiedy tej pamięci podręcznej będzie brakować (parametr `maxsize`). Dekorator `cached_property` używany jest głównie do właściwości przechowywanych w klasach, które są przedmiotem kolejnego laboratorium.\r\n",
    "\r\n",
    "## Zadania do wykonania\r\n",
    "\r\n",
    "1. Porównaj zapisywanie i odczytywanie kolekcji (100, 10000, 100 000 elementów) za pomocą trzech technik: modułu `pickle`, `parquet` i `xlsx`.\r\n",
    "\r\n",
    "### `pickle`"
   ],
   "metadata": {
    "collapsed": false,
    "pycharm": {
     "name": "#%% md\n"
    }
   }
  },
  {
   "cell_type": "code",
   "execution_count": null,
   "source": [
    "from datetime import datetime\r\n",
    "from tempfile import mktemp\r\n",
    "from os import unlink\r\n",
    "from pickle import dump, load\r\n",
    "\r\n",
    "temp_file = mktemp()\r\n",
    "\r\n",
    "amount = 100\r\n",
    "collection = {}\r\n",
    "for i in range(1, amount + 1):\r\n",
    "    collection['A' + str(i)] = int(i)\r\n",
    "\r\n",
    "pickle_start = datetime.now().timestamp()\r\n",
    "try:\r\n",
    "    with open(temp_file, 'wb') as f:\r\n",
    "        dump(collection, f)\r\n",
    "        f.flush()\r\n",
    "    with open(temp_file, 'rb') as f:\r\n",
    "        temp_col = load(f)\r\n",
    "        # print(f'{temp_col}')\r\n",
    "finally:\r\n",
    "    unlink(temp_file)\r\n",
    "pickle_end = datetime.now().timestamp()\r\n",
    "\r\n",
    "print(round(pickle_end - pickle_start, 6))"
   ],
   "outputs": [],
   "metadata": {}
  },
  {
   "cell_type": "markdown",
   "source": [
    "### `parquete`"
   ],
   "metadata": {}
  },
  {
   "cell_type": "code",
   "execution_count": null,
   "source": [
    "from datetime import datetime\r\n",
    "import pandas as pd\r\n",
    "from tempfile import mktemp\r\n",
    "from os import unlink\r\n",
    "from fastparquet import ParquetFile\r\n",
    "from openpyxl.utils import get_column_letter, column_index_from_string\r\n",
    "\r\n",
    "temp_file = mktemp()\r\n",
    "\r\n",
    "amount = 100\r\n",
    "collection = {}\r\n",
    "for i in range(1, amount + 1):\r\n",
    "    collection['A' + str(i)] = [int(i)]\r\n",
    "\r\n",
    "df = pd.DataFrame.from_dict(collection)\r\n",
    "\r\n",
    "parquete_start = datetime.now().timestamp()\r\n",
    "try:\r\n",
    "    df.to_parquet(temp_file, compression='GZIP')\r\n",
    "    pf = ParquetFile(temp_file)\r\n",
    "    df = pf.to_pandas()\r\n",
    "    for value_a in df.itertuples(index=False):\r\n",
    "        temp_val = value_a\r\n",
    "        # print(temp_val)\r\n",
    "finally:\r\n",
    "    unlink(temp_file)\r\n",
    "parquet_end = datetime.now().timestamp()\r\n",
    "\r\n",
    "print(parquet_end - parquete_start)"
   ],
   "outputs": [],
   "metadata": {}
  },
  {
   "cell_type": "markdown",
   "source": [
    "### `xlsx`"
   ],
   "metadata": {}
  },
  {
   "cell_type": "code",
   "execution_count": null,
   "source": [
    "from openpyxl import Workbook, load_workbook\r\n",
    "from typing import Dict\r\n",
    "from tempfile import mktemp\r\n",
    "from os import unlink\r\n",
    "\r\n",
    "file_name = mktemp(suffix='.xlsx')\r\n",
    "\r\n",
    "amount = 100\r\n",
    "collection = {}\r\n",
    "for i in range(1, amount + 1):\r\n",
    "    collection['A' + str(i)] = int(i)\r\n",
    "\r\n",
    "def create(data: Dict[str, int], file_name, sheet_name):\r\n",
    "    wb = Workbook()\r\n",
    "    sheet = wb.create_sheet(sheet_name)\r\n",
    "    for cell_key, cell_value in data.items():\r\n",
    "        sheet[cell_key] = cell_value\r\n",
    "    wb.save(file_name)\r\n",
    "\r\n",
    "def describe(file_name, sheet_name):\r\n",
    "    wb = load_workbook(file_name)\r\n",
    "    for coll_obj in list(wb[sheet_name].columns)[0]:\r\n",
    "        temp_val = coll_obj.value\r\n",
    "        # print(temp_val)\r\n",
    "\r\n",
    "try:\r\n",
    "    xlsx_start = datetime.now().timestamp()\r\n",
    "    create(collection, file_name, 'test')\r\n",
    "    describe(file_name, 'test')\r\n",
    "    xlsx_end = datetime.now().timestamp()\r\n",
    "\r\n",
    "finally:\r\n",
    "    unlink(file_name)\r\n",
    "\r\n",
    "print(xlsx_end - xlsx_start)"
   ],
   "outputs": [],
   "metadata": {}
  },
  {
   "cell_type": "markdown",
   "source": [
    "2. Zbadaj przyspieszenie związane z zastosowaniem pamięci podręcznej na wybranych przykładzie funkcji rekurencyjnej (np. ciągu _Fibonacciego_).\r\n",
    "\r\n",
    "Bez akceleracji dla 30 elementów"
   ],
   "metadata": {}
  },
  {
   "cell_type": "code",
   "execution_count": null,
   "source": [
    "from datetime import datetime\r\n",
    "\r\n",
    "def fib_without_acce(n):\r\n",
    "    if n < 2:\r\n",
    "        return n\r\n",
    "    return fib_without_acce(n-1) + fib_without_acce(n-2)\r\n",
    "\r\n",
    "dtn = datetime.now().timestamp()\r\n",
    "[fib_without_acce(n) for n in range(30)]\r\n",
    "dte = datetime.now().timestamp()\r\n",
    "print(dte - dtn)"
   ],
   "outputs": [],
   "metadata": {}
  },
  {
   "cell_type": "markdown",
   "source": [
    "Z akceleracją dla 1000 elementów"
   ],
   "metadata": {}
  },
  {
   "cell_type": "code",
   "execution_count": null,
   "source": [
    "import functools\r\n",
    "from datetime import datetime\r\n",
    "\r\n",
    "@functools.lru_cache(maxsize=None)\r\n",
    "def fib_with_acce(n):\r\n",
    "    if n < 2:\r\n",
    "        return n\r\n",
    "    return fib_with_acce(n-1) + fib_with_acce(n-2)\r\n",
    "\r\n",
    "dtn = datetime.now().timestamp()\r\n",
    "[fib_with_acce(n) for n in range(1000)]\r\n",
    "dte = datetime.now().timestamp()\r\n",
    "print(dte - dtn)"
   ],
   "outputs": [],
   "metadata": {}
  },
  {
   "cell_type": "markdown",
   "source": [
    "3. Napisz program tworzący bazę danych z interfejsem konsolowym. Wymagane są następujące operacje, dodanie wiersza, usunięcie wiersza, zmiana pola wiersza, wyświetlenie opcji. Menu można zorganizować jako odczytywanie parametrów zwróconych przez funkcję `input` lub z pomocą komend (łatwiejszy sposób)."
   ],
   "metadata": {}
  },
  {
   "cell_type": "code",
   "execution_count": null,
   "source": [
    "from sqlalchemy import *\r\n",
    "from sqlalchemy.orm import sessionmaker\r\n",
    "from sqlalchemy.ext.declarative import declarative_base\r\n",
    "from contextlib import contextmanager\r\n",
    "from tempfile import mktemp\r\n",
    "from platform import system\r\n",
    "\r\n",
    "temp_db = mktemp(suffix='.sqlite')\r\n",
    "\r\n",
    "conn_uri_handler = {\r\n",
    "    'Windows': f'sqlite:///{temp_db}',\r\n",
    "    'Darwin': f'sqlite:////{temp_db}',\r\n",
    "    'Linux': f'sqlite:////{temp_db}',\r\n",
    "    'Java': f'sqlite:////{temp_db}'\r\n",
    "}\r\n",
    "# w Windows dodaje dodatkowo /\r\n",
    "engine = create_engine(conn_uri_handler[system()])\r\n",
    "\r\n",
    "Base = declarative_base(bind=engine)\r\n",
    "\r\n",
    "class Product(Base):\r\n",
    "    __tablename__ = 'products'\r\n",
    "    id=Column(Integer, primary_key=True)\r\n",
    "    title=Column('title', String(32))\r\n",
    "    in_stock=Column('in_stock', Boolean)\r\n",
    "    quantity=Column('quantity', Integer)\r\n",
    "\r\n",
    "Base.metadata.create_all()\r\n",
    "\r\n",
    "Session = sessionmaker(bind=engine)\r\n",
    "@contextmanager\r\n",
    "def create_session():\r\n",
    "    session = Session()\r\n",
    "    try:\r\n",
    "        yield session\r\n",
    "        session.commit()\r\n",
    "    except Exception:\r\n",
    "        session.rollback()\r\n",
    "        raise\r\n",
    "    finally:\r\n",
    "        session.close()\r\n",
    "\r\n",
    "def provide_session(func):\r\n",
    "    def wrapper(*args, **kwargs):\r\n",
    "        try:\r\n",
    "            with create_session() as session:\r\n",
    "                args = (*args, session) if args else (session,) # dodanie parametru session do listy\r\n",
    "                return func(*args, **kwargs)\r\n",
    "        except Exception as e:\r\n",
    "            print(f'Error found: {e}')\r\n",
    "        return None\r\n",
    "    return wrapper\r\n",
    "\r\n",
    "@provide_session\r\n",
    "def row_add(session):\r\n",
    "    print('Product name:')\r\n",
    "    title = input()\r\n",
    "    print('Available amount')\r\n",
    "    quantity = int(input())\r\n",
    "    if quantity == 0:\r\n",
    "        stock = False\r\n",
    "    else:\r\n",
    "        stock = True\r\n",
    "    session.add(Product(title=title, in_stock=stock, quantity=quantity))\r\n",
    "    print(f'Add: {title} in amount {quantity}')\r\n",
    "\r\n",
    "@provide_session\r\n",
    "def row_remove(session):\r\n",
    "    print('Remove row with id:')\r\n",
    "    search = input()\r\n",
    "    session.query(Product).filter(Product.id == int(search)).delete()\r\n",
    "    session.commit()\r\n",
    "\r\n",
    "@provide_session\r\n",
    "def row_change(session):\r\n",
    "    print('Update row with id:')\r\n",
    "    search = input()\r\n",
    "    print('New product name: ')\r\n",
    "    name = input()\r\n",
    "    print('New amount: ')\r\n",
    "    amount = input()\r\n",
    "    session.query(Product).filter(Product.id == int(search)).update({\r\n",
    "      Product.title: name, Product.quantity(): amount\r\n",
    "    }, synchronize_session = False)\r\n",
    "\r\n",
    "@provide_session\r\n",
    "def query(session):\r\n",
    "    available_products = session.query(Product).filter(Product.in_stock == True).all()\r\n",
    "    print('Available products')\r\n",
    "    for product in available_products:\r\n",
    "        print(f'{product.id}\\t{product.title}\\t{product.in_stock}\\t{product.quantity}')\r\n",
    "\r\n",
    "    available_products = session.query(Product).filter(Product.in_stock == False).all()\r\n",
    "    if len(available_products) > 0:\r\n",
    "        print('Not available products')\r\n",
    "        for product in available_products:\r\n",
    "            print(f'{product.id}\\t{product.title}\\t{product.in_stock}\\t{product.quantity}')\r\n",
    "\r\n",
    "\r\n",
    "def show_options():\r\n",
    "    print(\"\\n1: Add new row\\n2: Remove row\\n3: Change row values\\n4: Show database\\n\")\r\n",
    "    mode_select = input()\r\n",
    "    if mode_select == '1':\r\n",
    "        try:\r\n",
    "            row_add()\r\n",
    "            show_options()\r\n",
    "        except Exception as e:\r\n",
    "            print(f'{e}')\r\n",
    "    elif mode_select == '2':\r\n",
    "        try:\r\n",
    "            row_remove()\r\n",
    "            show_options()\r\n",
    "        except Exception as e:\r\n",
    "            print(f'{e}')\r\n",
    "    elif mode_select == '3':\r\n",
    "        try:\r\n",
    "            row_change()\r\n",
    "            show_options()\r\n",
    "        except Exception as e:\r\n",
    "            print(f'{e}')\r\n",
    "    elif mode_select == '4':\r\n",
    "        query()\r\n",
    "        show_options()\r\n",
    "    elif mode_select == '0':\r\n",
    "        exit()\r\n",
    "    else:\r\n",
    "        print('Wrong mode')\r\n",
    "        show_options()\r\n",
    "\r\n",
    "show_options()"
   ],
   "outputs": [],
   "metadata": {}
  }
 ],
 "metadata": {
  "kernelspec": {
   "name": "python3",
   "display_name": "Python 3.9.6 64-bit"
  },
  "language_info": {
   "name": "python",
   "version": "3.9.6",
   "mimetype": "text/x-python",
   "codemirror_mode": {
    "name": "ipython",
    "version": 3
   },
   "pygments_lexer": "ipython3",
   "nbconvert_exporter": "python",
   "file_extension": ".py"
  },
  "interpreter": {
   "hash": "ac59ebe37160ed0dfa835113d9b8498d9f09ceb179beaac4002f036b9467c963"
  }
 },
 "nbformat": 4,
 "nbformat_minor": 2
}